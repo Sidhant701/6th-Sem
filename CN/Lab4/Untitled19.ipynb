{
 "cells": [
  {
   "cell_type": "markdown",
   "id": "4f9e58b5-f1ea-4801-9aeb-3bff30ee88db",
   "metadata": {},
   "source": [
    "# CNS LAB 4:\n",
    "* VIGNERE CIPHER"
   ]
  },
  {
   "cell_type": "code",
   "execution_count": 27,
   "id": "78c1704b-acc0-4011-aea0-5d1507d5b4e1",
   "metadata": {},
   "outputs": [
    {
     "name": "stdout",
     "output_type": "stream",
     "text": [
      "ENCRYPTION/ DECRYPTION USING VIGNERE CIPHER :-\n",
      "\n"
     ]
    },
    {
     "name": "stdin",
     "output_type": "stream",
     "text": [
      "Enter your plain text :  HELLO ANNANYA\n",
      "Enter your key :  KEY\n"
     ]
    },
    {
     "name": "stdout",
     "output_type": "stream",
     "text": [
      "\n",
      "Encrypting plain text   HELLO ANNANYA   using key   KEY  ...\n",
      "Encrypted: RIJVS YXRYXCY\n",
      "\n",
      "Decrypting cipher text   RIJVS YXRYXCY   using key   KEY  ...\n",
      "Decrypted: HELLO ANNANYA\n"
     ]
    }
   ],
   "source": [
    "def vignere_cipher(text, key, encrypt=True):\n",
    "    if encrypt:\n",
    "        print(f\"\\nEncrypting plain text   {text}   using key   {key}  ...\")\n",
    "    else:\n",
    "        print(f\"Decrypting cipher text   {text}   using key   {key}  ...\")\n",
    "    result = []\n",
    "    key = key.lower()\n",
    "    key_length = len(key)\n",
    "    key_index = 0\n",
    "    for char in text:\n",
    "        if char.isalpha():\n",
    "            shift = ord(key[key_index % key_length]) - 97\n",
    "            if not encrypt:\n",
    "                shift = -shift\n",
    "\n",
    "            if char.islower():\n",
    "                newchar = chr((ord(char) - 97 + shift) % 26 + 97)\n",
    "            else:\n",
    "                newchar = chr((ord(char) - 65 + shift) % 26 + 65)\n",
    "            result.append(newchar)\n",
    "            key_index += 1\n",
    "        else:\n",
    "            result.append(char)\n",
    "    return ''.join(result)\n",
    "print(\"ENCRYPTION/ DECRYPTION USING VIGNERE CIPHER :-\\n\")\n",
    "plaintext = input(\"Enter your plain text : \")\n",
    "key = input(\"Enter your key : \")\n",
    "cipher_text=vignere_cipher(plaintext, key, True)\n",
    "print(\"Encrypted:\", cipher_text)\n",
    "print()\n",
    "decrypted_text=vignere_cipher(cipher_text, key, False)\n",
    "print(\"Decrypted:\", decrypted_text)\n",
    "\n",
    "\n",
    "\n",
    "\n",
    "#OUTPUT:-\n",
    "'''\n",
    "ENCRYPTION/ DECRYPTION USING VIGNERE CIPHER :-\n",
    "\n",
    "Enter your plain text :  HELLO ANNANYA\n",
    "Enter your key :  KEY\n",
    "\n",
    "Encrypting plain text   HELLO ANNANYA   using key   KEY  ...\n",
    "Encrypted: RIJVS YXRYXCY\n",
    "\n",
    "Decrypting cipher text   RIJVS YXRYXCY   using key   KEY  ...\n",
    "Decrypted: HELLO ANNANYA\n",
    "'''"
   ]
  },
  {
   "cell_type": "markdown",
   "id": "60f8fcd7-afba-4cd0-b990-9dab2340cf95",
   "metadata": {},
   "source": [
    "* playfair cipher:-"
   ]
  },
  {
   "cell_type": "code",
   "execution_count": 20,
   "id": "49725709-d619-4490-8581-52812e2429ed",
   "metadata": {},
   "outputs": [
    {
     "name": "stdout",
     "output_type": "stream",
     "text": [
      "MATRIX: \n",
      "M      O      N      A      R      \n",
      "C      H      B      D      E      \n",
      "F      G      I      K      L      \n",
      "P      Q      S      T      U      \n",
      "V      W      X      Y      Z      \n",
      "\n",
      "Prepared text :  HELXLOWORLDX\n",
      "\n",
      "Plaintext: HELLO WORLD\n",
      "Encrypted: BCIZGROHEUBY\n"
     ]
    }
   ],
   "source": [
    "import string\n",
    "def create_matrix(key):\n",
    "    key=key.upper().replace('J','I')\n",
    "    seen=set()\n",
    "    matrix=[]\n",
    "        \n",
    "    for char in key:\n",
    "        if char not in seen and char in string.ascii_uppercase:\n",
    "            seen.add(char)\n",
    "            matrix.append(char)\n",
    "    \n",
    "    for char in \"ABCDEFGHIKLMNOPQRSTUVWXYZ\":\n",
    "        if char not in seen:\n",
    "            seen.add(char)\n",
    "            matrix.append(char)\n",
    "            \n",
    "    return [matrix[i * 5:(i + 1) * 5] for i in range(5)]\n",
    "\n",
    "def find_position(matrix, letter):\n",
    "    for row in range(5):\n",
    "        for col in range(5):\n",
    "            if matrix[row][col] == letter:\n",
    "                return row, col\n",
    "    return None \n",
    "\n",
    "def prepare_text(text):\n",
    "    text = text.upper().replace('J', 'I').replace(' ', '')\n",
    "    prepared = \"\"\n",
    "    \n",
    "    i = 0\n",
    "    while i < len(text):\n",
    "        if i < len(text) - 1 and text[i] == text[i + 1]:  \n",
    "            prepared += text[i] + \"X\"\n",
    "            i += 1\n",
    "        else:\n",
    "            prepared += text[i]\n",
    "            if i + 1 < len(text):\n",
    "                prepared += text[i + 1]\n",
    "            i += 2\n",
    "    \n",
    "    if len(prepared) % 2 != 0:\n",
    "        prepared += \"X\"\n",
    "    print(\"Prepared text : \",prepared,end='\\n\\n')\n",
    "    return prepared\n",
    "def playfair_encrypt(text, key):\n",
    "    matrix = create_matrix(key)\n",
    "    print(\"MATRIX: \")\n",
    "    for i in matrix:\n",
    "        for j in i :\n",
    "            print(j,end=\"      \")\n",
    "        print()\n",
    "    print()\n",
    "\n",
    "    text = prepare_text(text)\n",
    "    ciphertext = \"\"\n",
    "\n",
    "    for i in range(0, len(text), 2):\n",
    "        r1, c1 = find_position(matrix, text[i])\n",
    "        r2, c2 = find_position(matrix, text[i + 1])\n",
    "\n",
    "        if r1 == r2:  \n",
    "            ciphertext += matrix[r1][(c1 + 1) % 5] + matrix[r2][(c2 + 1) % 5]\n",
    "        elif c1 == c2:  \n",
    "            ciphertext += matrix[(r1 + 1) % 5][c1] + matrix[(r2 + 1) % 5][c2]\n",
    "        else: \n",
    "            ciphertext += matrix[r1][c2] + matrix[r2][c1]\n",
    "\n",
    "    return ciphertext\n",
    "\n",
    "key = \"MONARCH\"\n",
    "plaintext = \"HELLO WORLD\"\n",
    "ciphertext = playfair_encrypt(plaintext, key)\n",
    "print(\"Plaintext:\", plaintext)\n",
    "print(\"Encrypted:\", ciphertext)"
   ]
  },
  {
   "cell_type": "code",
   "execution_count": 21,
   "id": "d6c3b23f-d97f-4e6a-9b85-75f200c5fb14",
   "metadata": {},
   "outputs": [
    {
     "name": "stdout",
     "output_type": "stream",
     "text": [
      "MATRIX: \n",
      "M      O      N      A      R      \n",
      "C      H      B      D      E      \n",
      "F      G      I      K      L      \n",
      "P      Q      S      T      U      \n",
      "V      W      X      Y      Z      \n",
      "\n",
      "Ciphertext: BCIZGROHEUBY\n",
      "Decrypted: HELXLOWORLDX\n"
     ]
    }
   ],
   "source": [
    "def playfair_decrypt(text, key):\n",
    "    matrix = create_matrix(key)\n",
    "    print(\"MATRIX: \")\n",
    "    for i in matrix:\n",
    "        for j in i :\n",
    "            print(j,end=\"      \")\n",
    "        print()\n",
    "    print()\n",
    "    plaintext = \"\"\n",
    "\n",
    "    for i in range(0, len(text), 2):\n",
    "        r1, c1 = find_position(matrix, text[i])\n",
    "        r2, c2 = find_position(matrix, text[i + 1])\n",
    "\n",
    "        if r1 == r2:  \n",
    "            plaintext += matrix[r1][(c1 - 1) % 5] + matrix[r2][(c2 - 1) % 5]\n",
    "        elif c1 == c2:\n",
    "            plaintext += matrix[(r1 - 1) % 5][c1] + matrix[(r2 - 1) % 5][c2]\n",
    "        else:  \n",
    "            plaintext += matrix[r1][c2] + matrix[r2][c1]\n",
    "\n",
    "    return plaintext\n",
    "\n",
    "key = \"MONARCH\"\n",
    "ciphertext = \"BCIZGROHEUBY\"\n",
    "decrypted_text = playfair_decrypt(ciphertext, key)\n",
    "print(\"Ciphertext:\", ciphertext)\n",
    "print(\"Decrypted:\", decrypted_text)"
   ]
  },
  {
   "cell_type": "code",
   "execution_count": null,
   "id": "32de1197-0103-4a64-9a46-987925482a5b",
   "metadata": {},
   "outputs": [],
   "source": []
  },
  {
   "cell_type": "code",
   "execution_count": null,
   "id": "b8938245-8c0e-4aa7-9e50-10d471c3a783",
   "metadata": {},
   "outputs": [],
   "source": []
  },
  {
   "cell_type": "code",
   "execution_count": null,
   "id": "156fa328-77d4-40a7-892f-1462615921e5",
   "metadata": {},
   "outputs": [],
   "source": []
  },
  {
   "cell_type": "code",
   "execution_count": null,
   "id": "3e11d65a-1f36-4020-9e50-09b08854fee9",
   "metadata": {},
   "outputs": [],
   "source": []
  },
  {
   "cell_type": "code",
   "execution_count": null,
   "id": "926df206-0a26-437a-8abf-c717f568b63b",
   "metadata": {},
   "outputs": [],
   "source": []
  },
  {
   "cell_type": "code",
   "execution_count": null,
   "id": "41c1ff22-e8f2-4e63-8747-195794175971",
   "metadata": {},
   "outputs": [],
   "source": []
  },
  {
   "cell_type": "code",
   "execution_count": null,
   "id": "e9f71844-3079-4d86-8eea-996bc46efb0b",
   "metadata": {},
   "outputs": [],
   "source": []
  }
 ],
 "metadata": {
  "kernelspec": {
   "display_name": "Python 3 (ipykernel)",
   "language": "python",
   "name": "python3"
  },
  "language_info": {
   "codemirror_mode": {
    "name": "ipython",
    "version": 3
   },
   "file_extension": ".py",
   "mimetype": "text/x-python",
   "name": "python",
   "nbconvert_exporter": "python",
   "pygments_lexer": "ipython3",
   "version": "3.11.7"
  }
 },
 "nbformat": 4,
 "nbformat_minor": 5
}
