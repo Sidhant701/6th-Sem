{
 "cells": [
  {
   "cell_type": "code",
   "execution_count": 3,
   "id": "7cd2860e-c943-460c-9bf8-a672d68143e7",
   "metadata": {},
   "outputs": [
    {
     "name": "stdout",
     "output_type": "stream",
     "text": [
      "User ID: 740612038142140416\n",
      "User Name: Sidhant Barik\n",
      "Screen Name: SidhantBarik\n",
      "Description: \n",
      "Followers Count: 0\n"
     ]
    }
   ],
   "source": [
    "# 29/3/25\n",
    "\n",
    "import requests\n",
    "\n",
    "# Replace with your actual Bearer Token from X Developer Portal\n",
    "BEARER_TOKEN = \"AAAAAAAAAAAAAAAAAAAAAC4H0QEAAAAAGYw33ptLVmNoRbv6uMQnLbdV4J4%3DrGSOebzBqmhsBCAfq0BMY7DgBMJC4BrVZ7zXudkaaySgjlWkhG\"\n",
    "\n",
    "def get_user_info(username):\n",
    "    url = f\"https://api.twitter.com/2/users/by/username/{username}?user.fields=id,name,username,description,public_metrics\"\n",
    "    headers = {\n",
    "        \"Authorization\": f\"Bearer {BEARER_TOKEN}\"\n",
    "    }\n",
    "\n",
    "    response = requests.get(url, headers=headers)\n",
    "\n",
    "    if response.status_code == 200:\n",
    "        user_data = response.json()[\"data\"]\n",
    "        print(\"User ID:\", user_data[\"id\"])\n",
    "        print(\"User Name:\", user_data[\"name\"])\n",
    "        print(\"Screen Name:\", user_data[\"username\"])\n",
    "        print(\"Description:\", user_data[\"description\"])\n",
    "        print(\"Followers Count:\", user_data[\"public_metrics\"][\"followers_count\"])\n",
    "    else:\n",
    "        print(\"Error:\", response.status_code, response.text)\n",
    "\n",
    "# Replace 'elonmusk' with any Twitter username\n",
    "get_user_info(\"SidhantBarik\")\n"
   ]
  },
  {
   "cell_type": "code",
   "execution_count": 4,
   "id": "6271c604-8ab2-47ec-ab73-55abfc04f28f",
   "metadata": {},
   "outputs": [
    {
     "name": "stdout",
     "output_type": "stream",
     "text": [
      "Defaulting to user installation because normal site-packages is not writeable\n",
      "Requirement already satisfied: tweepy in /home/student/.local/lib/python3.11/site-packages (4.15.0)\n",
      "Requirement already satisfied: oauthlib<4,>=3.2.0 in /home/student/.local/lib/python3.11/site-packages (from tweepy) (3.2.2)\n",
      "Requirement already satisfied: requests<3,>=2.27.0 in /home/iteradmin/anaconda3/lib/python3.11/site-packages (from tweepy) (2.31.0)\n",
      "Requirement already satisfied: requests-oauthlib<3,>=1.2.0 in /home/student/.local/lib/python3.11/site-packages (from tweepy) (2.0.0)\n",
      "Requirement already satisfied: charset-normalizer<4,>=2 in /home/iteradmin/anaconda3/lib/python3.11/site-packages (from requests<3,>=2.27.0->tweepy) (2.0.4)\n",
      "Requirement already satisfied: idna<4,>=2.5 in /home/iteradmin/anaconda3/lib/python3.11/site-packages (from requests<3,>=2.27.0->tweepy) (3.4)\n",
      "Requirement already satisfied: urllib3<3,>=1.21.1 in /home/iteradmin/anaconda3/lib/python3.11/site-packages (from requests<3,>=2.27.0->tweepy) (2.0.7)\n",
      "Requirement already satisfied: certifi>=2017.4.17 in /home/iteradmin/anaconda3/lib/python3.11/site-packages (from requests<3,>=2.27.0->tweepy) (2024.2.2)\n"
     ]
    }
   ],
   "source": [
    "!pip install tweepy"
   ]
  },
  {
   "cell_type": "code",
   "execution_count": 5,
   "id": "9e7a0729-8a01-4f2a-9fc9-be06b892fa54",
   "metadata": {},
   "outputs": [
    {
     "name": "stdout",
     "output_type": "stream",
     "text": [
      "User ID: 740612038142140416\n",
      "Username: SidhantBarik\n",
      "Name: Sidhant Barik\n",
      "Followers Count: 0\n"
     ]
    }
   ],
   "source": [
    "import tweepy\n",
    "\n",
    "# Twitter API credentials\n",
    "API_KEY = \"j0QWLG7f6SgZFVbYtxApEk1F6\"\n",
    "API_SECRET = \"Eau0dnTsAk9U55yr4EsKJsnkXGpe9hbBEK2JKJTrX70XT4dDoq\"\n",
    "ACCESS_TOKEN = \"740612038142140416\"\n",
    "ACCESS_SECRET = \"dEOi6fSpvgK3EcHJBghZ7SO7trHhfvsbswQCedrGIXWvc\"\n",
    "BEARER_TOKEN = \"AAAAAAAAAAAAAAAAAAAAAC4H0QEAAAAAGYw33ptLVmNoRbv6uMQnLbdV4J4%3DrGSOebzBqmhsBCAfq0BMY7DgBMJC4BrVZ7zXudkaaySgjlWkhG\"\n",
    "# Authenticate with Twitter API v2\n",
    "client = tweepy.Client(bearer_token=BEARER_TOKEN)\n",
    "\n",
    "# Twitter username (replace with your username)\n",
    "username = \"SidhantBarik\"\n",
    "\n",
    "# Fetch user details\n",
    "user = client.get_user(username=username, user_fields=[\"public_metrics\"])\n",
    "\n",
    "# Get follower count\n",
    "if user.data:\n",
    "    print(\"User ID:\", user.data.id)\n",
    "    print(\"Username:\", user.data.username)\n",
    "    print(\"Name:\", user.data.name)\n",
    "    print(\"Followers Count:\", user.data.public_metrics[\"followers_count\"])\n",
    "else:\n",
    "    print(\"User not found.\")"
   ]
  },
  {
   "cell_type": "code",
   "execution_count": 6,
   "id": "440c9ed0-959f-4c83-9972-a19525713401",
   "metadata": {},
   "outputs": [
    {
     "name": "stdout",
     "output_type": "stream",
     "text": [
      "Tweet: RT @PIXILARTi: Asgardian prince, Thor (Chris Hemsworth), who is banished to Earth by his father, Odin (Anthony Hopkins), after recklessly r…\n",
      "\n",
      "Tweet: RT @ToscaAusten: War drums are beating loudly.\n",
      "\n",
      "The uniparty that failed to prevent Hegseth from being confirmed for Sec of Defense have fo…\n",
      "\n",
      "Tweet: RT @ToscaAusten: War drums are beating loudly.\n",
      "\n",
      "The uniparty that failed to prevent Hegseth from being confirmed for Sec of Defense have fo…\n",
      "\n",
      "Tweet: RT @ToscaAusten: War drums are beating loudly.\n",
      "\n",
      "The uniparty that failed to prevent Hegseth from being confirmed for Sec of Defense have fo…\n",
      "\n",
      "Tweet: RT @ToscaAusten: War drums are beating loudly.\n",
      "\n",
      "The uniparty that failed to prevent Hegseth from being confirmed for Sec of Defense have fo…\n",
      "\n",
      "Tweet: @ToteSeele82 Guten Morgen Sven! Ich hoffe, du bist heute bereit, mal richtig Gas zu geben. Die Woche war ja echt ein Witz bei dir – so hast du dich ja richtig gehen lassen! Vielleicht bringt dir deine Frau ja heute mal bei, wo der Hammer hängt und sorgt dafür, dass du wieder ins Schuften\n",
      "\n",
      "Tweet: RT @ToscaAusten: War drums are beating loudly.\n",
      "\n",
      "The uniparty that failed to prevent Hegseth from being confirmed for Sec of Defense have fo…\n",
      "\n",
      "Tweet: RT @ToscaAusten: War drums are beating loudly.\n",
      "\n",
      "The uniparty that failed to prevent Hegseth from being confirmed for Sec of Defense have fo…\n",
      "\n",
      "Tweet: RT @GerryFickspecht: Ich wurde gerade Zeuge, wie ein Metaler ein am Flügel verletztes Vögelchen mit erster Hilfe versorgt, gefüttert und zu…\n",
      "\n",
      "Tweet: RT @ToscaAusten: War drums are beating loudly.\n",
      "\n",
      "The uniparty that failed to prevent Hegseth from being confirmed for Sec of Defense have fo…\n",
      "\n",
      "Tweet: RT @ToscaAusten: War drums are beating loudly.\n",
      "\n",
      "The uniparty that failed to prevent Hegseth from being confirmed for Sec of Defense have fo…\n",
      "\n",
      "Tweet: RT @ToscaAusten: War drums are beating loudly.\n",
      "\n",
      "The uniparty that failed to prevent Hegseth from being confirmed for Sec of Defense have fo…\n",
      "\n",
      "Tweet: @bitcoin_hotel Definitiv ein hypergalaktischer Eskalationstrip!! 💪💯🧡 Ne im ernst vielen Dank Mark dass ich dabei sein konnte, das war mein bester Trip so far in El Salvador und die Natur ist echt der Hammer dort 😍⛰️🌱🌺🦋🌴🐜💦\n",
      "\n",
      "Tweet: RT @ToscaAusten: War drums are beating loudly.\n",
      "\n",
      "The uniparty that failed to prevent Hegseth from being confirmed for Sec of Defense have fo…\n",
      "\n",
      "Tweet: RT @ToscaAusten: War drums are beating loudly.\n",
      "\n",
      "The uniparty that failed to prevent Hegseth from being confirmed for Sec of Defense have fo…\n",
      "\n",
      "Tweet: @awesumzombiefac That one monster from gears of war as long as I got the hammer of dawn\n",
      "\n",
      "Tweet: @inesschwerdtner War die Hammer Bande wieder unterwegs?\n",
      "\n",
      "Tweet: RT @Helldivers_NOW: #Helldivers2 | #Helldivers2Lore \n",
      "\n",
      "Did You Know❓\n",
      "\n",
      "Whilst the \"Helldivers\" are the scalpel of the military might of Super…\n",
      "\n",
      "Tweet: RT @ToscaAusten: War drums are beating loudly.\n",
      "\n",
      "The uniparty that failed to prevent Hegseth from being confirmed for Sec of Defense have fo…\n",
      "\n",
      "Tweet: @sat1 geh aufs ganze ist die beste show die es jemals im deutschen tv gegeben hat ❤❤❤ die show war früher hammer und heute noch genauso ❤\n",
      "\n",
      "Tweet: RT @Helldivers_NOW: #Helldivers2 | #Helldivers2Lore \n",
      "\n",
      "Did You Know❓\n",
      "\n",
      "Whilst the \"Helldivers\" are the scalpel of the military might of Super…\n",
      "\n"
     ]
    }
   ],
   "source": [
    "import tweepy\n",
    "\n",
    "API_KEY = \"j0QWLG7f6SgZFVbYtxApEk1F6\"\n",
    "API_SECRET = \"Eau0dnTsAk9U55yr4EsKJsnkXGpe9hbBEK2JKJTrX70XT4dDoq\"\n",
    "ACCESS_TOKEN = \"740612038142140416\"\n",
    "ACCESS_SECRET = \"dEOi6fSpvgK3EcHJBghZ7SO7trHhfvsbswQCedrGIXWvc\"\n",
    "\n",
    "\n",
    "client = tweepy.Client(bearer_token=\"AAAAAAAAAAAAAAAAAAAAAC4H0QEAAAAAGYw33ptLVmNoRbv6uMQnLbdV4J4%3DrGSOebzBqmhsBCAfq0BMY7DgBMJC4BrVZ7zXudkaaySgjlWkhG\")\n",
    "\n",
    "query = \"War Hammer\"  # Replace with your search term\n",
    "\n",
    "tweets = client.search_recent_tweets(query=query, max_results=21)\n",
    "\n",
    "# Print tweets\n",
    "for tweet in tweets.data:\n",
    "    print(f\"Tweet: {tweet.text}\\n\")"
   ]
  },
  {
   "cell_type": "code",
   "execution_count": 7,
   "id": "192c09e2-2812-4f29-8a4b-f64df7142983",
   "metadata": {},
   "outputs": [
    {
     "ename": "TooManyRequests",
     "evalue": "429 Too Many Requests\nToo Many Requests",
     "output_type": "error",
     "traceback": [
      "\u001b[0;31m---------------------------------------------------------------------------\u001b[0m",
      "\u001b[0;31mTooManyRequests\u001b[0m                           Traceback (most recent call last)",
      "Cell \u001b[0;32mIn[7], line 13\u001b[0m\n\u001b[1;32m      9\u001b[0m client \u001b[38;5;241m=\u001b[39m tweepy\u001b[38;5;241m.\u001b[39mClient(bearer_token\u001b[38;5;241m=\u001b[39m\u001b[38;5;124m\"\u001b[39m\u001b[38;5;124mAAAAAAAAAAAAAAAAAAAAAC4H0QEAAAAAGYw33ptLVmNoRbv6uMQnLbdV4J4\u001b[39m\u001b[38;5;124m%\u001b[39m\u001b[38;5;124m3DrGSOebzBqmhsBCAfq0BMY7DgBMJC4BrVZ7zXudkaaySgjlWkhG\u001b[39m\u001b[38;5;124m\"\u001b[39m)\n\u001b[1;32m     11\u001b[0m query \u001b[38;5;241m=\u001b[39m \u001b[38;5;124m\"\u001b[39m\u001b[38;5;124mMyanmar\u001b[39m\u001b[38;5;124m\"\u001b[39m  \u001b[38;5;66;03m# Replace with your search term\u001b[39;00m\n\u001b[0;32m---> 13\u001b[0m tweets \u001b[38;5;241m=\u001b[39m client\u001b[38;5;241m.\u001b[39msearch_recent_tweets(query\u001b[38;5;241m=\u001b[39mquery, max_results\u001b[38;5;241m=\u001b[39m\u001b[38;5;241m21\u001b[39m)\n\u001b[1;32m     15\u001b[0m \u001b[38;5;66;03m# Print tweets\u001b[39;00m\n\u001b[1;32m     16\u001b[0m \u001b[38;5;28;01mfor\u001b[39;00m tweet \u001b[38;5;129;01min\u001b[39;00m tweets\u001b[38;5;241m.\u001b[39mdata:\n",
      "File \u001b[0;32m~/.local/lib/python3.11/site-packages/tweepy/client.py:1270\u001b[0m, in \u001b[0;36mClient.search_recent_tweets\u001b[0;34m(self, query, user_auth, **params)\u001b[0m\n\u001b[1;32m   1178\u001b[0m \u001b[38;5;250m\u001b[39m\u001b[38;5;124;03m\"\"\"search_recent_tweets( \\\u001b[39;00m\n\u001b[1;32m   1179\u001b[0m \u001b[38;5;124;03m    query, *, end_time=None, expansions=None, max_results=None, \\\u001b[39;00m\n\u001b[1;32m   1180\u001b[0m \u001b[38;5;124;03m    media_fields=None, next_token=None, place_fields=None, \\\u001b[39;00m\n\u001b[0;32m   (...)\u001b[0m\n\u001b[1;32m   1267\u001b[0m \u001b[38;5;124;03m.. _Academic Research Project: https://developer.twitter.com/en/docs/projects\u001b[39;00m\n\u001b[1;32m   1268\u001b[0m \u001b[38;5;124;03m\"\"\"\u001b[39;00m\n\u001b[1;32m   1269\u001b[0m params[\u001b[38;5;124m\"\u001b[39m\u001b[38;5;124mquery\u001b[39m\u001b[38;5;124m\"\u001b[39m] \u001b[38;5;241m=\u001b[39m query\n\u001b[0;32m-> 1270\u001b[0m \u001b[38;5;28;01mreturn\u001b[39;00m \u001b[38;5;28mself\u001b[39m\u001b[38;5;241m.\u001b[39m_make_request(\n\u001b[1;32m   1271\u001b[0m     \u001b[38;5;124m\"\u001b[39m\u001b[38;5;124mGET\u001b[39m\u001b[38;5;124m\"\u001b[39m, \u001b[38;5;124m\"\u001b[39m\u001b[38;5;124m/2/tweets/search/recent\u001b[39m\u001b[38;5;124m\"\u001b[39m, params\u001b[38;5;241m=\u001b[39mparams,\n\u001b[1;32m   1272\u001b[0m     endpoint_parameters\u001b[38;5;241m=\u001b[39m(\n\u001b[1;32m   1273\u001b[0m         \u001b[38;5;124m\"\u001b[39m\u001b[38;5;124mend_time\u001b[39m\u001b[38;5;124m\"\u001b[39m, \u001b[38;5;124m\"\u001b[39m\u001b[38;5;124mexpansions\u001b[39m\u001b[38;5;124m\"\u001b[39m, \u001b[38;5;124m\"\u001b[39m\u001b[38;5;124mmax_results\u001b[39m\u001b[38;5;124m\"\u001b[39m, \u001b[38;5;124m\"\u001b[39m\u001b[38;5;124mmedia.fields\u001b[39m\u001b[38;5;124m\"\u001b[39m,\n\u001b[1;32m   1274\u001b[0m         \u001b[38;5;124m\"\u001b[39m\u001b[38;5;124mnext_token\u001b[39m\u001b[38;5;124m\"\u001b[39m, \u001b[38;5;124m\"\u001b[39m\u001b[38;5;124mplace.fields\u001b[39m\u001b[38;5;124m\"\u001b[39m, \u001b[38;5;124m\"\u001b[39m\u001b[38;5;124mpoll.fields\u001b[39m\u001b[38;5;124m\"\u001b[39m, \u001b[38;5;124m\"\u001b[39m\u001b[38;5;124mquery\u001b[39m\u001b[38;5;124m\"\u001b[39m,\n\u001b[1;32m   1275\u001b[0m         \u001b[38;5;124m\"\u001b[39m\u001b[38;5;124msince_id\u001b[39m\u001b[38;5;124m\"\u001b[39m, \u001b[38;5;124m\"\u001b[39m\u001b[38;5;124msort_order\u001b[39m\u001b[38;5;124m\"\u001b[39m, \u001b[38;5;124m\"\u001b[39m\u001b[38;5;124mstart_time\u001b[39m\u001b[38;5;124m\"\u001b[39m, \u001b[38;5;124m\"\u001b[39m\u001b[38;5;124mtweet.fields\u001b[39m\u001b[38;5;124m\"\u001b[39m,\n\u001b[1;32m   1276\u001b[0m         \u001b[38;5;124m\"\u001b[39m\u001b[38;5;124muntil_id\u001b[39m\u001b[38;5;124m\"\u001b[39m, \u001b[38;5;124m\"\u001b[39m\u001b[38;5;124muser.fields\u001b[39m\u001b[38;5;124m\"\u001b[39m\n\u001b[1;32m   1277\u001b[0m     ), data_type\u001b[38;5;241m=\u001b[39mTweet, user_auth\u001b[38;5;241m=\u001b[39muser_auth\n\u001b[1;32m   1278\u001b[0m )\n",
      "File \u001b[0;32m~/.local/lib/python3.11/site-packages/tweepy/client.py:129\u001b[0m, in \u001b[0;36mBaseClient._make_request\u001b[0;34m(self, method, route, params, endpoint_parameters, json, data_type, user_auth)\u001b[0m\n\u001b[1;32m    123\u001b[0m \u001b[38;5;28;01mdef\u001b[39;00m \u001b[38;5;21m_make_request\u001b[39m(\n\u001b[1;32m    124\u001b[0m     \u001b[38;5;28mself\u001b[39m, method, route, params\u001b[38;5;241m=\u001b[39m{}, endpoint_parameters\u001b[38;5;241m=\u001b[39m(), json\u001b[38;5;241m=\u001b[39m\u001b[38;5;28;01mNone\u001b[39;00m,\n\u001b[1;32m    125\u001b[0m     data_type\u001b[38;5;241m=\u001b[39m\u001b[38;5;28;01mNone\u001b[39;00m, user_auth\u001b[38;5;241m=\u001b[39m\u001b[38;5;28;01mFalse\u001b[39;00m\n\u001b[1;32m    126\u001b[0m ):\n\u001b[1;32m    127\u001b[0m     request_params \u001b[38;5;241m=\u001b[39m \u001b[38;5;28mself\u001b[39m\u001b[38;5;241m.\u001b[39m_process_params(params, endpoint_parameters)\n\u001b[0;32m--> 129\u001b[0m     response \u001b[38;5;241m=\u001b[39m \u001b[38;5;28mself\u001b[39m\u001b[38;5;241m.\u001b[39mrequest(method, route, params\u001b[38;5;241m=\u001b[39mrequest_params,\n\u001b[1;32m    130\u001b[0m                             json\u001b[38;5;241m=\u001b[39mjson, user_auth\u001b[38;5;241m=\u001b[39muser_auth)\n\u001b[1;32m    132\u001b[0m     \u001b[38;5;28;01mif\u001b[39;00m \u001b[38;5;28mself\u001b[39m\u001b[38;5;241m.\u001b[39mreturn_type \u001b[38;5;129;01mis\u001b[39;00m requests\u001b[38;5;241m.\u001b[39mResponse:\n\u001b[1;32m    133\u001b[0m         \u001b[38;5;28;01mreturn\u001b[39;00m response\n",
      "File \u001b[0;32m~/.local/lib/python3.11/site-packages/tweepy/client.py:115\u001b[0m, in \u001b[0;36mBaseClient.request\u001b[0;34m(self, method, route, params, json, user_auth)\u001b[0m\n\u001b[1;32m    113\u001b[0m         \u001b[38;5;28;01mreturn\u001b[39;00m \u001b[38;5;28mself\u001b[39m\u001b[38;5;241m.\u001b[39mrequest(method, route, params, json, user_auth)\n\u001b[1;32m    114\u001b[0m     \u001b[38;5;28;01melse\u001b[39;00m:\n\u001b[0;32m--> 115\u001b[0m         \u001b[38;5;28;01mraise\u001b[39;00m TooManyRequests(response)\n\u001b[1;32m    116\u001b[0m \u001b[38;5;28;01mif\u001b[39;00m response\u001b[38;5;241m.\u001b[39mstatus_code \u001b[38;5;241m>\u001b[39m\u001b[38;5;241m=\u001b[39m \u001b[38;5;241m500\u001b[39m:\n\u001b[1;32m    117\u001b[0m     \u001b[38;5;28;01mraise\u001b[39;00m TwitterServerError(response)\n",
      "\u001b[0;31mTooManyRequests\u001b[0m: 429 Too Many Requests\nToo Many Requests"
     ]
    }
   ],
   "source": [
    "import tweepy\n",
    "\n",
    "API_KEY = \"j0QWLG7f6SgZFVbYtxApEk1F6\"\n",
    "API_SECRET = \"Eau0dnTsAk9U55yr4EsKJsnkXGpe9hbBEK2JKJTrX70XT4dDoq\"\n",
    "ACCESS_TOKEN = \"740612038142140416\"\n",
    "ACCESS_SECRET = \"dEOi6fSpvgK3EcHJBghZ7SO7trHhfvsbswQCedrGIXWvc\"\n",
    "\n",
    "\n",
    "client = tweepy.Client(bearer_token=\"AAAAAAAAAAAAAAAAAAAAAC4H0QEAAAAAGYw33ptLVmNoRbv6uMQnLbdV4J4%3DrGSOebzBqmhsBCAfq0BMY7DgBMJC4BrVZ7zXudkaaySgjlWkhG\")\n",
    "\n",
    "query = \"Myanmar\"  # Replace with your search term\n",
    "\n",
    "tweets = client.search_recent_tweets(query=query, max_results=21)\n",
    "\n",
    "# Print tweets\n",
    "for tweet in tweets.data:\n",
    "    print(f\"Tweet: {tweet.text}\\n\")"
   ]
  },
  {
   "cell_type": "code",
   "execution_count": null,
   "id": "140ed79e-75d6-4e8b-872c-4e0d499ea884",
   "metadata": {},
   "outputs": [],
   "source": []
  }
 ],
 "metadata": {
  "kernelspec": {
   "display_name": "Python 3 (ipykernel)",
   "language": "python",
   "name": "python3"
  },
  "language_info": {
   "codemirror_mode": {
    "name": "ipython",
    "version": 3
   },
   "file_extension": ".py",
   "mimetype": "text/x-python",
   "name": "python",
   "nbconvert_exporter": "python",
   "pygments_lexer": "ipython3",
   "version": "3.11.7"
  }
 },
 "nbformat": 4,
 "nbformat_minor": 5
}
