{
 "cells": [
  {
   "cell_type": "markdown",
   "id": "d35b7517-178c-4ac6-8bb6-944d84c69039",
   "metadata": {},
   "source": [
    "*Italic* **Bold**"
   ]
  },
  {
   "cell_type": "code",
   "execution_count": 10,
   "id": "16b45feb-19c3-4222-a903-3e7b0708bc1f",
   "metadata": {},
   "outputs": [
    {
     "name": "stdout",
     "output_type": "stream",
     "text": [
      "Defaulting to user installation because normal site-packages is not writeable\n",
      "Requirement already satisfied: textblob in /home/student/.local/lib/python3.11/site-packages (0.19.0)\n",
      "Requirement already satisfied: nltk>=3.9 in /home/student/.local/lib/python3.11/site-packages (from textblob) (3.9.1)\n",
      "Requirement already satisfied: click in /home/iteradmin/anaconda3/lib/python3.11/site-packages (from nltk>=3.9->textblob) (8.1.7)\n",
      "Requirement already satisfied: joblib in /home/iteradmin/anaconda3/lib/python3.11/site-packages (from nltk>=3.9->textblob) (1.2.0)\n",
      "Requirement already satisfied: regex>=2021.8.3 in /home/iteradmin/anaconda3/lib/python3.11/site-packages (from nltk>=3.9->textblob) (2023.10.3)\n",
      "Requirement already satisfied: tqdm in /home/iteradmin/anaconda3/lib/python3.11/site-packages (from nltk>=3.9->textblob) (4.65.0)\n"
     ]
    }
   ],
   "source": [
    "!pip install textblob"
   ]
  },
  {
   "cell_type": "code",
   "execution_count": 11,
   "id": "40f4b15a-2835-40f8-9f53-5e6ab9e0bc68",
   "metadata": {},
   "outputs": [
    {
     "name": "stdout",
     "output_type": "stream",
     "text": [
      "I am studying Python\n",
      "<class 'textblob.blob.TextBlob'>\n"
     ]
    }
   ],
   "source": [
    "from textblob import TextBlob\n",
    "text = \"I am studying Python\"\n",
    "blob = TextBlob(text)\n",
    "print(blob)\n",
    "print(type(blob))"
   ]
  },
  {
   "cell_type": "markdown",
   "id": "42fcb395-0470-46e8-96d9-592fc11009b1",
   "metadata": {},
   "source": [
    "## **Printing** Words in a given String."
   ]
  },
  {
   "cell_type": "markdown",
   "id": "3d85757d-87e3-4bae-aca3-755f9c593cea",
   "metadata": {},
   "source": [
    "## BLOB.WORDS NOT WORKING"
   ]
  },
  {
   "cell_type": "code",
   "execution_count": 5,
   "id": "8c8a56d0-9626-4834-a316-f26e52ba1e70",
   "metadata": {},
   "outputs": [
    {
     "name": "stderr",
     "output_type": "stream",
     "text": [
      "[nltk_data] Downloading package punkt_tab to\n",
      "[nltk_data]     /home/student/nltk_data...\n",
      "[nltk_data]   Package punkt_tab is already up-to-date!\n"
     ]
    },
    {
     "data": {
      "text/plain": [
       "True"
      ]
     },
     "execution_count": 5,
     "metadata": {},
     "output_type": "execute_result"
    }
   ],
   "source": [
    "import nltk\n",
    "nltk.download('punkt_tab')\n",
    "#IMPORTANT TO USE .words and .sentences"
   ]
  },
  {
   "cell_type": "code",
   "execution_count": 6,
   "id": "3572602f-6eee-40e4-b523-95b9855f36b5",
   "metadata": {},
   "outputs": [
    {
     "name": "stdout",
     "output_type": "stream",
     "text": [
      "<class 'textblob.blob.WordList'>\n"
     ]
    }
   ],
   "source": [
    "from textblob import TextBlob\n",
    "text = \"I am sad. I am Happy. I will be elated.\"\n",
    "blob = TextBlob(text)\n",
    "print(type(blob.words))"
   ]
  },
  {
   "cell_type": "code",
   "execution_count": 20,
   "id": "76af3b5a-219c-4397-89b9-3a7603704419",
   "metadata": {},
   "outputs": [
    {
     "name": "stdout",
     "output_type": "stream",
     "text": [
      "I\n",
      " \n",
      "a\n",
      "m\n",
      " \n",
      "s\n",
      "a\n",
      "d\n",
      ".\n",
      " \n",
      "I\n",
      " \n",
      "a\n",
      "m\n",
      " \n",
      "H\n",
      "a\n",
      "p\n",
      "p\n",
      "y\n",
      ".\n",
      " \n",
      "I\n",
      " \n",
      "w\n",
      "i\n",
      "l\n",
      "l\n",
      " \n",
      "b\n",
      "e\n",
      " \n",
      "e\n",
      "l\n",
      "a\n",
      "t\n",
      "e\n",
      "d\n",
      ".\n"
     ]
    }
   ],
   "source": [
    "from textblob import TextBlob\n",
    "text = \"I am sad. I am Happy. I will be elated.\"\n",
    "blob = TextBlob(text)\n",
    "for i in blob:\n",
    "    print(i)"
   ]
  },
  {
   "cell_type": "code",
   "execution_count": 7,
   "id": "02613cd0-b8c3-49ab-b036-6fdbeea43ed5",
   "metadata": {},
   "outputs": [
    {
     "name": "stdout",
     "output_type": "stream",
     "text": [
      "I\n",
      "am\n",
      "sad\n",
      "I\n",
      "am\n",
      "Happy\n",
      "I\n",
      "will\n",
      "be\n",
      "elated\n"
     ]
    }
   ],
   "source": [
    "from textblob import TextBlob\n",
    "text = \"I am sad. I am Happy. I will be elated.\"\n",
    "blob = TextBlob(text)\n",
    "for i in blob.words:\n",
    "    print(i)"
   ]
  },
  {
   "cell_type": "code",
   "execution_count": 8,
   "id": "5fd4616f-2ee2-42e9-8f65-bcb1560f6c27",
   "metadata": {},
   "outputs": [
    {
     "name": "stdout",
     "output_type": "stream",
     "text": [
      "I\n",
      "am\n",
      "sad\n",
      "I\n",
      "am\n",
      "Happy\n",
      "I\n",
      "will\n",
      "be\n",
      "elated\n"
     ]
    }
   ],
   "source": [
    "from textblob import TextBlob\n",
    "text = \"I am sad. I am Happy. I will be elated.\"\n",
    "blob = TextBlob(text)\n",
    "for i in blob.words:\n",
    "    print(i)"
   ]
  },
  {
   "cell_type": "markdown",
   "id": "efc66bc6-5f7b-4cd4-b1d8-332a75fbad47",
   "metadata": {},
   "source": [
    "## **Printing Sentences** in a given String."
   ]
  },
  {
   "cell_type": "code",
   "execution_count": 9,
   "id": "8eac3ee8-52f0-4826-a18c-3ee05fdaeded",
   "metadata": {},
   "outputs": [
    {
     "name": "stdout",
     "output_type": "stream",
     "text": [
      "[Sentence(\"I am sad.\"), Sentence(\"I am Happy.\"), Sentence(\"I will be elated.\")]\n"
     ]
    }
   ],
   "source": [
    "from textblob import TextBlob\n",
    "text = \"I am sad. I am Happy. I will be elated.\"\n",
    "blob = TextBlob(text)\n",
    "print(blob.sentences)"
   ]
  },
  {
   "cell_type": "code",
   "execution_count": 11,
   "id": "7625f6c3-d02b-472a-8274-38052812ed51",
   "metadata": {},
   "outputs": [
    {
     "name": "stdout",
     "output_type": "stream",
     "text": [
      "I am sad.\n",
      "I am Happy.\n",
      "I will be elated.\n"
     ]
    }
   ],
   "source": [
    "from textblob import TextBlob\n",
    "text = \"I am sad. I am Happy. I will be elated.\"\n",
    "blob = TextBlob(text)\n",
    "for i in blob.sentences:\n",
    "    print(i)"
   ]
  },
  {
   "cell_type": "code",
   "execution_count": 14,
   "id": "f8e09d8a-238b-4008-bce2-0e08d958fb17",
   "metadata": {},
   "outputs": [
    {
     "name": "stdout",
     "output_type": "stream",
     "text": [
      "I will be elated.\n",
      "Will I be Happy?\n",
      "I will be elated?\n"
     ]
    }
   ],
   "source": [
    "from textblob import TextBlob\n",
    "text = \"I am sad. I am Happy. I will be elated. Will I be Happy? I will be elated?\"\n",
    "blob = TextBlob(text)\n",
    "for i in blob.sentences:\n",
    "    if 'be' in i:\n",
    "        print(i)"
   ]
  },
  {
   "cell_type": "markdown",
   "id": "c14e888c-ce4e-482c-8d69-d894efc5a654",
   "metadata": {},
   "source": [
    "# Noun Phrases\n",
    "A **noun phrase** is a group of 2 or more words that function like a noun when put together."
   ]
  },
  {
   "cell_type": "code",
   "execution_count": 16,
   "id": "bb9620ce-8cda-405d-95b1-5820c11700f9",
   "metadata": {},
   "outputs": [
    {
     "name": "stderr",
     "output_type": "stream",
     "text": [
      "[nltk_data] Downloading package brown to /home/student/nltk_data...\n",
      "[nltk_data]   Unzipping corpora/brown.zip.\n"
     ]
    },
    {
     "data": {
      "text/plain": [
       "True"
      ]
     },
     "execution_count": 16,
     "metadata": {},
     "output_type": "execute_result"
    }
   ],
   "source": [
    "import nltk\n",
    "nltk.download('brown')\n",
    "# To run noun_phrases"
   ]
  },
  {
   "cell_type": "code",
   "execution_count": 19,
   "id": "191ba031-1aed-4b2e-a73b-600376c5c2c1",
   "metadata": {},
   "outputs": [
    {
     "name": "stdout",
     "output_type": "stream",
     "text": [
      "['vast organizations', 'europe', 'asia', 'europe', \"'s exploitations\", 'countries', 'joined', 'asia']\n",
      "\n",
      "defaultdict(<class 'int'>, {'vast organizations': 1, 'europe': 2, 'asia': 2, \"'s exploitations\": 1, 'countries': 1, 'joined': 1})\n"
     ]
    }
   ],
   "source": [
    "from textblob import TextBlob\n",
    "text = '''There are vast organizations in Europe and Asia who are rivals. \n",
    "The stories of Europe's exploitations have reached far and wide.\n",
    "Other Countries have Joined forces with Asia's superior techlonoly to level the playing field and change the story.'''\n",
    "blob = TextBlob(text)\n",
    "print(blob.noun_phrases)\n",
    "print()\n",
    "print(blob.np_counts)"
   ]
  },
  {
   "cell_type": "markdown",
   "id": "18d0e8f6-0220-4a04-820b-dac639791daa",
   "metadata": {},
   "source": [
    "# Sentiment Function\n",
    "\n",
    "Sentiment Function has 2 properties: Polarity and Subjectivity.\n",
    "* **Polarity** refers to the overall sentiment of a text on a scale from -1(very negative) to 1(very positive).\n",
    "* **Subjectivity** indicates how much personal opinion or judgement is expressed in the text, ranging from 0(completey objective/factual) to 1(highly subjective/opinionated)."
   ]
  },
  {
   "cell_type": "code",
   "execution_count": 30,
   "id": "4b3b0fd4-6620-496f-a172-fb7309fda17a",
   "metadata": {},
   "outputs": [
    {
     "name": "stdout",
     "output_type": "stream",
     "text": [
      "Sentiment(polarity=-0.9, subjectivity=0.95)\n",
      "Sentiment(polarity=0.6125, subjectivity=0.75)\n",
      "Sentiment(polarity=0.625, subjectivity=0.6)\n",
      "Sentiment(polarity=0.5, subjectivity=0.6)\n",
      "Sentiment(polarity=0.11499999999999999, subjectivity=0.735)\n",
      "Sentiment(polarity=0.15000000000000002, subjectivity=1.0)\n",
      "I am sad. : polarity < 0.0\n",
      "I am Happy. : polarity > 0.0\n",
      "I will be elated. : polarity = 0.0\n"
     ]
    }
   ],
   "source": [
    "from textblob import TextBlob\n",
    "text1 = \"This product is awful. I hate it. Do not buy.\"\n",
    "text2 = \"This product is amazing. I love it. Buy!\"\n",
    "text3 = \"This product is amazinggg. I love it. Buy!\"\n",
    "text4 = \"Love never came to me in a silver spoon, so i licked it off knives.\" # WRONG OUTPUT, Python finds it +ve\n",
    "text5 = '''There are vast organizations in Europe and Asia who are rivals. The stories of Europe's exploitations have reached far and wide.\n",
    "Other Countries have Joined forces with Asia's superior techlonoly to level the playing field and change the story.'''\n",
    "text6 = \"I am sad. I am Happy. I will be elated.\"\n",
    "\n",
    "blob1 = TextBlob(text1)\n",
    "blob2 = TextBlob(text2)\n",
    "blob3 = TextBlob(text3)\n",
    "blob4 = TextBlob(text4)\n",
    "blob5 = TextBlob(text5)\n",
    "blob6 = TextBlob(text6)\n",
    "print(blob1.sentiment)\n",
    "print(blob2.sentiment)\n",
    "print(blob3.sentiment)\n",
    "print(blob4.sentiment)\n",
    "print(blob5.sentiment)\n",
    "print(blob6.sentiment)\n",
    "\n",
    "for i in blob6.sentences:\n",
    "    if i.sentiment.polarity > 0.0:\n",
    "        print(i, \": polarity > 0.0\")\n",
    "    elif i.sentiment.polarity == 0.0:\n",
    "        print(i, \": polarity = 0.0\")\n",
    "    elif i.sentiment.polarity < 0.0:\n",
    "        print(i, \": polarity < 0.0\")"
   ]
  },
  {
   "cell_type": "markdown",
   "id": "c0a222d6-8542-4b44-8c51-37417e69d3ba",
   "metadata": {},
   "source": [
    "# ngrams\n",
    "* An **ngram** is a contiguous sequence of words in a text.\n",
    "* Python produces a list of **WordList** n-grams of length 3 by default, known as trigrams."
   ]
  },
  {
   "cell_type": "code",
   "execution_count": 35,
   "id": "1d19c9d5-0042-4e5c-8cac-2d4e1301af50",
   "metadata": {},
   "outputs": [
    {
     "name": "stdout",
     "output_type": "stream",
     "text": [
      "[WordList(['This', 'product', 'is']), WordList(['product', 'is', 'awful']), WordList(['is', 'awful', 'I']), WordList(['awful', 'I', 'hate']), WordList(['I', 'hate', 'it']), WordList(['hate', 'it', 'Do']), WordList(['it', 'Do', 'not']), WordList(['Do', 'not', 'buy'])]\n"
     ]
    }
   ],
   "source": [
    "from textblob import TextBlob\n",
    "text6 = \"I am sad. I am Happy. I will be elated.\"\n",
    "blob1 = TextBlob(text1)\n",
    "print(blob1.ngrams(n=3))"
   ]
  },
  {
   "cell_type": "markdown",
   "id": "09af906f-0607-47cf-a866-3c2b73d4a3ca",
   "metadata": {},
   "source": [
    "# Parts-of-Speech Tagging\n",
    "* VBD: Past Tense\n",
    "* RB: Adverb\n",
    "* PRP: Pronoun\n",
    ",etc."
   ]
  },
  {
   "cell_type": "code",
   "execution_count": 38,
   "id": "47d36840-3962-4212-a071-14efcb5c8dd3",
   "metadata": {},
   "outputs": [
    {
     "name": "stderr",
     "output_type": "stream",
     "text": [
      "[nltk_data] Downloading package averaged_perceptron_tagger_eng to\n",
      "[nltk_data]     /home/student/nltk_data...\n",
      "[nltk_data]   Package averaged_perceptron_tagger_eng is already up-to-\n",
      "[nltk_data]       date!\n"
     ]
    },
    {
     "data": {
      "text/plain": [
       "True"
      ]
     },
     "execution_count": 38,
     "metadata": {},
     "output_type": "execute_result"
    }
   ],
   "source": [
    "import nltk\n",
    "nltk.download('averaged_perceptron_tagger_eng')\n",
    "# IMPORTANT TO USE FOR tags"
   ]
  },
  {
   "cell_type": "code",
   "execution_count": null,
   "id": "e719f091-95d8-4e2b-b2d0-80a0d987f5fe",
   "metadata": {},
   "outputs": [
    {
     "name": "stdout",
     "output_type": "stream",
     "text": [
      "[('Love', 'VB'), ('never', 'RB'), ('came', 'VBD'), ('to', 'TO'), ('me', 'PRP'), ('in', 'IN'), ('a', 'DT'), ('silver', 'NN'), ('spoon', 'NN'), ('so', 'IN'), ('i', 'JJ'), ('licked', 'VBD'), ('it', 'PRP'), ('off', 'RP'), ('knives', 'NNS')]\n",
      "\n",
      "[('This', 'DT'), ('product', 'NN'), ('is', 'VBZ'), ('amazing', 'JJ'), ('I', 'PRP'), ('love', 'VBP'), ('it', 'PRP'), ('Buy', 'NN')]\n"
     ]
    }
   ],
   "source": [
    "from textblob import TextBlob\n",
    "text1 = \"I am sad. I am Happy. I will be elated.\"\n",
    "text2 = \"Love never came to me in a silver spoon, so i licked it off knives.\"\n",
    "blob1 = TextBlob(text1)\n",
    "blob2 = TextBlob(text2)\n",
    "print(blob1.tags)\n",
    "print()\n",
    "print(blob2.tags)"
   ]
  },
  {
   "cell_type": "markdown",
   "id": "77bd7bfd-aeb3-4158-96b1-ec9e9eed0d0d",
   "metadata": {},
   "source": [
    "# Language Detection\n",
    "## This has been banned by Google."
   ]
  },
  {
   "cell_type": "code",
   "execution_count": 55,
   "id": "3970e25b-2ead-4bf6-ae9e-88842265e7cd",
   "metadata": {},
   "outputs": [
    {
     "name": "stdout",
     "output_type": "stream",
     "text": [
      "Defaulting to user installation because normal site-packages is not writeable\n",
      "Requirement already satisfied: langdetect in /home/student/.local/lib/python3.11/site-packages (1.0.9)\n",
      "Requirement already satisfied: six in /home/iteradmin/anaconda3/lib/python3.11/site-packages (from langdetect) (1.16.0)\n"
     ]
    }
   ],
   "source": [
    "!pip install langdetect\n",
    "# NEEDED TO USE detect"
   ]
  },
  {
   "cell_type": "code",
   "execution_count": 64,
   "id": "f1984b26-b2fd-4dec-b03b-e900bc81ee6a",
   "metadata": {},
   "outputs": [
    {
     "name": "stdout",
     "output_type": "stream",
     "text": [
      "Detected Language: en\n",
      "Detected Language: mr\n",
      "Detected Language: bn\n",
      "Detected Language: es\n",
      "Detected Language: es\n",
      "Detected Language: it\n",
      "Detected Language: so\n"
     ]
    }
   ],
   "source": [
    "from textblob import TextBlob\n",
    "from langdetect import detect\n",
    "text1 = \"Love never came to me in a silver spoon, so i licked it off knives.\"\n",
    "blob1 = TextBlob(text1) #NOT REQUIRED\n",
    "\n",
    "text2 = \"शून्यीकरोति\"\n",
    "text3 = \"বাংলা অভিধান\"\n",
    "text4 = \"muy bien\" # Spanish\n",
    "text5 = \"La Mor te\"\n",
    "text6 = \"Pizza\"\n",
    "text7 = \"Arigaato\"\n",
    "\n",
    "# print(blob1.detect_language) # This has been banned by GOOGLE. (So, it throws an error)\n",
    "print(f\"Detected Language: {detect(text1)}\")\n",
    "print(f\"Detected Language: {detect(text2)}\")\n",
    "print(f\"Detected Language: {detect(text3)}\")\n",
    "print(f\"Detected Language: {detect(text4)}\")\n",
    "print(f\"Detected Language: {detect(text5)}\")\n",
    "print(f\"Detected Language: {detect(text6)}\")\n",
    "print(f\"Detected Language: {detect(text7)}\")"
   ]
  },
  {
   "cell_type": "markdown",
   "id": "0548fd01-93d1-4721-ac24-46eb8c28e153",
   "metadata": {},
   "source": [
    "# Inflection: It includes: -\n",
    "* Pluralization\n",
    "* Singularization"
   ]
  },
  {
   "cell_type": "code",
   "execution_count": 71,
   "id": "1da00b0e-5fbf-4775-8608-5a4e111e0e23",
   "metadata": {},
   "outputs": [
    {
     "name": "stdout",
     "output_type": "stream",
     "text": [
      "indices\n",
      "child\n",
      "childrens\n",
      "['we', 'ams', 'sads', 'we', 'ams', 'Happys', 'we', 'wills', 'bes', 'elateds']\n"
     ]
    }
   ],
   "source": [
    "from textblob import TextBlob, Word\n",
    "w1 = Word(\"index\")\n",
    "w2 = Word(\"children\")\n",
    "t1 = \"I am sad. I am Happy. I will be elated.\"\n",
    "\n",
    "print(w1.pluralize())\n",
    "print(w2.singularize())\n",
    "\n",
    "print(w2.pluralize()) # WRONG\n",
    "\n",
    "blob1 = TextBlob(t1).words\n",
    "print(blob1.pluralize()) # WRONG"
   ]
  },
  {
   "cell_type": "markdown",
   "id": "8f2a9fcf-c039-4019-ad18-dbd1a2ea8ecd",
   "metadata": {},
   "source": [
    "# Spell Checking and Correction"
   ]
  },
  {
   "cell_type": "code",
   "execution_count": 12,
   "id": "75f5f2dc-3583-4a5a-b8fe-d08afb93606f",
   "metadata": {},
   "outputs": [
    {
     "name": "stdout",
     "output_type": "stream",
     "text": [
      "[('they', 0.5713042216741622), ('their', 0.42869577832583783)]\n",
      "I was sad. I am happy. I will be elated.\n",
      "Her home is in Delhi.\n"
     ]
    }
   ],
   "source": [
    "from textblob import TextBlob, Word\n",
    "w1 = Word('theyr')\n",
    "print(w1.spellcheck())\n",
    "# word, probability\n",
    "\n",
    "t1 = 'I ws sad. I am hapy. I wil be elatd.'\n",
    "b1 = TextBlob(t1)\n",
    "print(b1.correct())\n",
    "\n",
    "t2 = \"Theyr home is in Delhi.\"\n",
    "b2 = TextBlob(t2)\n",
    "print(b2.correct())\n"
   ]
  },
  {
   "cell_type": "markdown",
   "id": "0044227e-405b-4203-b426-4bbfa6957774",
   "metadata": {},
   "source": [
    "# **Normalization**, **Stemming** and **Lemmatization**\n",
    "## **Stemming**:-\n",
    "    The modern English language is considered a weakly inflected language. There are many words in English derived from other words. Eg: The inflected word \"Normality\" is derived from the word norm which is the root form. Stemming is a technique used to reduce an inflected word down to its stem. Eg: The words \"Programming\", \"Programmers\", \"Programs\" can all be reduced down to the common word stem \"Program\".\n",
    "    Alternatively, program can be used as a synnonym for the prior 3 inflected word.\n",
    "    The stem may or may not be a real word.\n",
    "\n",
    "## **Lemmatization**:-\n",
    "    Lemmatization is another technique used to reduce down to new word. It describes the algorithmic process of identifying an inflected word's Lemma(Dictionary Form) based on its intended meaning. As oppposed to stemming, Lemmatization relies on accurately determining the intended part-of-speech and the meaning of a word based on its context.\n",
    "    It almost always results in a real word."
   ]
  },
  {
   "cell_type": "code",
   "execution_count": 16,
   "id": "619617cc-83ca-42b1-bd70-16c68cd90793",
   "metadata": {},
   "outputs": [
    {
     "name": "stdout",
     "output_type": "stream",
     "text": [
      "varieti\n",
      "variety\n"
     ]
    }
   ],
   "source": [
    "from textblob import Word\n",
    "w1 = Word('varieties')\n",
    "print(w1.stem())\n",
    "print(w1.lemmatize())"
   ]
  },
  {
   "cell_type": "code",
   "execution_count": 23,
   "id": "c664f8fa-3302-4cc7-ae74-dc30496386d0",
   "metadata": {},
   "outputs": [
    {
     "name": "stdout",
     "output_type": "stream",
     "text": [
      "36\n"
     ]
    }
   ],
   "source": [
    "from pathlib import Path\n",
    "from textblob import TextBlob\n",
    "text = Path(r'/home/student/SID2241002049/Python/Lab5/WarHammer.txt').read_text('UTF-8')\n",
    "blob = TextBlob(text)\n",
    "print(blob.word_counts['Titus'.lower()])"
   ]
  },
  {
   "cell_type": "markdown",
   "id": "4d32dc06-db19-4a23-b3fe-75b5c1d4223f",
   "metadata": {},
   "source": [
    "___________\n",
    "# Definitions, Synonyms and Antonyms\n",
    "### Definitions:-"
   ]
  },
  {
   "cell_type": "code",
   "execution_count": 28,
   "id": "e3909ce4-1005-4c7e-84e5-035fbed16f0e",
   "metadata": {},
   "outputs": [
    {
     "name": "stdout",
     "output_type": "stream",
     "text": [
      "['enjoying or showing or marked by joy or pleasure', 'marked by good fortune', 'eagerly disposed to act or to be of service', 'well expressed and to the point']\n"
     ]
    }
   ],
   "source": [
    "from textblob import Word\n",
    "w = Word(\"Happy\")\n",
    "print(w.definitions)"
   ]
  },
  {
   "cell_type": "markdown",
   "id": "ff4bdb11-90e6-46c8-8c8b-4fbcc8191875",
   "metadata": {},
   "source": [
    "### Synonyms:-"
   ]
  },
  {
   "cell_type": "code",
   "execution_count": 44,
   "id": "0ad1f239-0006-4227-ac38-db4aa628aaed",
   "metadata": {},
   "outputs": [
    {
     "name": "stdout",
     "output_type": "stream",
     "text": [
      "[Synset('happy.a.01'), Synset('felicitous.s.02'), Synset('glad.s.02'), Synset('happy.s.04')]\n",
      "Lemma('happy.a.01.happy')\n",
      "Lemma('felicitous.s.02.felicitous')\n",
      "Lemma('felicitous.s.02.happy')\n",
      "Lemma('glad.s.02.glad')\n",
      "Lemma('glad.s.02.happy')\n",
      "Lemma('happy.s.04.happy')\n",
      "Lemma('happy.s.04.well-chosen')\n",
      "{'well-chosen', 'happy', 'glad', 'felicitous'}\n"
     ]
    }
   ],
   "source": [
    "from textblob import Word\n",
    "w = Word(\"Happy\")\n",
    "print(w.synsets)\n",
    "\n",
    "for i in w.synsets:\n",
    "    for lemma in i.lemmas():\n",
    "        print(lemma)\n",
    "\n",
    "synonyms = set()\n",
    "for i in w.synsets:\n",
    "    for lemma in i.lemmas():\n",
    "        synonyms.add(lemma.name())\n",
    "print(synonyms)"
   ]
  },
  {
   "cell_type": "markdown",
   "id": "99663a33-4b5c-403b-a1d2-e1a797621ccd",
   "metadata": {},
   "source": [
    "* The first \"happy\" is the lemmatized form of the original \"happy\".\n",
    "* a is a part of speech which can be a for adjective, n for noun, v for verb, r for adverb, s for adjective-sattelite, etc.\n",
    "* 01 is a 0 based idex number. Many words have multiple meanings and this is the index number of the corresponding meaning in the WordNet database.\n",
    "* Each synset has a lemmas method that returns a list of lemma object representing the synonyms."
   ]
  },
  {
   "cell_type": "markdown",
   "id": "afcc91f0-7962-4773-aab7-c56c455b97c0",
   "metadata": {},
   "source": [
    "### Antonyms:-"
   ]
  },
  {
   "cell_type": "code",
   "execution_count": null,
   "id": "7aa997f4-6395-47c8-bc65-e94d5559748d",
   "metadata": {},
   "outputs": [
    {
     "name": "stdout",
     "output_type": "stream",
     "text": [
      "[Lemma('unhappy.a.01.unhappy')]\n"
     ]
    }
   ],
   "source": [
    "from textblob import Word\n",
    "w = Word(\"Happy\")\n",
    "synset = w.synsets\n",
    "lemma = synset[0].lemmas()\n",
    "print(lemma[0].antonyms())"
   ]
  },
  {
   "cell_type": "markdown",
   "id": "3df81b33-9428-4682-a384-eedf56227d8f",
   "metadata": {},
   "source": [
    "___________\n",
    "# Stop Words\n",
    "    They are common words in text that are often removed from the text before analyzing it because they typically do not provide any useful information.\n",
    "    The NLTK library has lists of \"stop words\" of many languages apart from English."
   ]
  },
  {
   "cell_type": "code",
   "execution_count": 46,
   "id": "afbe0060-f5b8-40a2-ae64-984c08360316",
   "metadata": {},
   "outputs": [
    {
     "name": "stderr",
     "output_type": "stream",
     "text": [
      "[nltk_data] Downloading package stopwords to\n",
      "[nltk_data]     /home/student/nltk_data...\n",
      "[nltk_data]   Package stopwords is already up-to-date!\n"
     ]
    },
    {
     "data": {
      "text/plain": [
       "True"
      ]
     },
     "execution_count": 46,
     "metadata": {},
     "output_type": "execute_result"
    }
   ],
   "source": [
    "import nltk\n",
    "nltk.download('stopwords')"
   ]
  },
  {
   "cell_type": "code",
   "execution_count": 53,
   "id": "14f8cf44-5be4-4066-aefe-1258b4c91d68",
   "metadata": {},
   "outputs": [
    {
     "name": "stdout",
     "output_type": "stream",
     "text": [
      "['a', 'about', 'above', 'after', 'again', 'against', 'ain', 'all', 'am', 'an', 'and', 'any', 'are', 'aren', \"aren't\", 'as', 'at', 'be', 'because', 'been', 'before', 'being', 'below', 'between', 'both', 'but', 'by', 'can', 'couldn', \"couldn't\", 'd', 'did', 'didn', \"didn't\", 'do', 'does', 'doesn', \"doesn't\", 'doing', 'don', \"don't\", 'down', 'during', 'each', 'few', 'for', 'from', 'further', 'had', 'hadn', \"hadn't\", 'has', 'hasn', \"hasn't\", 'have', 'haven', \"haven't\", 'having', 'he', \"he'd\", \"he'll\", 'her', 'here', 'hers', 'herself', \"he's\", 'him', 'himself', 'his', 'how', 'i', \"i'd\", 'if', \"i'll\", \"i'm\", 'in', 'into', 'is', 'isn', \"isn't\", 'it', \"it'd\", \"it'll\", \"it's\", 'its', 'itself', \"i've\", 'just', 'll', 'm', 'ma', 'me', 'mightn', \"mightn't\", 'more', 'most', 'mustn', \"mustn't\", 'my', 'myself', 'needn', \"needn't\", 'no', 'nor', 'not', 'now', 'o', 'of', 'off', 'on', 'once', 'only', 'or', 'other', 'our', 'ours', 'ourselves', 'out', 'over', 'own', 're', 's', 'same', 'shan', \"shan't\", 'she', \"she'd\", \"she'll\", \"she's\", 'should', 'shouldn', \"shouldn't\", \"should've\", 'so', 'some', 'such', 't', 'than', 'that', \"that'll\", 'the', 'their', 'theirs', 'them', 'themselves', 'then', 'there', 'these', 'they', \"they'd\", \"they'll\", \"they're\", \"they've\", 'this', 'those', 'through', 'to', 'too', 'under', 'until', 'up', 've', 'very', 'was', 'wasn', \"wasn't\", 'we', \"we'd\", \"we'll\", \"we're\", 'were', 'weren', \"weren't\", \"we've\", 'what', 'when', 'where', 'which', 'while', 'who', 'whom', 'why', 'will', 'with', 'won', \"won't\", 'wouldn', \"wouldn't\", 'y', 'you', \"you'd\", \"you'll\", 'your', \"you're\", 'yours', 'yourself', 'yourselves', \"you've\"]\n",
      "198\n",
      "\n",
      "['Today', 'good', 'day']\n"
     ]
    }
   ],
   "source": [
    "from nltk.corpus import stopwords\n",
    "from textblob import TextBlob\n",
    "stops = stopwords.words('english')\n",
    "print(stops)\n",
    "print(len(stops))\n",
    "print()\n",
    "\n",
    "text = 'Today is a good day.'\n",
    "blob = TextBlob(text)\n",
    "print([i for i in blob.words if i not in stops])"
   ]
  },
  {
   "cell_type": "markdown",
   "id": "c024edd0-709a-4af1-8e64-997c65619682",
   "metadata": {},
   "source": [
    "________\n",
    "* Q) Create a  bar chart that displays the top 10 words with their frequencies appearing in a text file."
   ]
  },
  {
   "cell_type": "code",
   "execution_count": 7,
   "id": "831e5a6e-df85-46f0-b5cf-cf53183a13c1",
   "metadata": {},
   "outputs": [
    {
     "data": {
      "image/png": "[encoded data removed]",
      "text/plain": [
       "<Figure size 640x480 with 1 Axes>"
      ]
     },
     "metadata": {},
     "output_type": "display_data"
    }
   ],
   "source": [
    "from pathlib import Path\n",
    "text = Path(r'/home/student/SID2241002049/Python/Lab5/WarHammer.txt').read_text('UTF-8')\n",
    "\n",
    "from textblob import TextBlob\n",
    "blob = TextBlob(text)\n",
    "items = blob.word_counts.items()\n",
    "# print(items)\n",
    "\n",
    "from nltk.corpus import stopwords\n",
    "stop_words = stopwords.words('english')\n",
    "items = [i for i in items if i[0] not in stop_words]\n",
    "# print(items)\n",
    "\n",
    "from operator import itemgetter\n",
    "sorted_items = sorted(items, key = itemgetter(1), reverse = True) # 1 is index\n",
    "# print(sorted_items)\n",
    "\n",
    "top20 = sorted_items[:20]\n",
    "# print(top20)\n",
    "\n",
    "import pandas as pd\n",
    "df = pd.DataFrame(top20, columns = ['Words', 'Count'])\n",
    "# print(df)\n",
    "\n",
    "from matplotlib import pyplot as plt\n",
    "axes = df.plot.bar(x = 'Words', y = 'Count', color = ['blue','black','red', 'green', 'orange'])\n",
    "plt.gcf().tight_layout() # To fit figure in screen\n",
    "plt.show()"
   ]
  },
  {
   "cell_type": "code",
   "execution_count": 8,
   "id": "0a355560-3efd-4dc5-93b8-d6b75c55d854",
   "metadata": {},
   "outputs": [
    {
     "name": "stdout",
     "output_type": "stream",
     "text": [
      "Defaulting to user installation because normal site-packages is not writeable\n",
      "Collecting wordcloud\n",
      "  Downloading wordcloud-1.9.4-cp311-cp311-manylinux_2_17_x86_64.manylinux2014_x86_64.whl.metadata (3.4 kB)\n",
      "Requirement already satisfied: numpy>=1.6.1 in /home/iteradmin/anaconda3/lib/python3.11/site-packages (from wordcloud) (1.26.4)\n",
      "Requirement already satisfied: pillow in /home/iteradmin/anaconda3/lib/python3.11/site-packages (from wordcloud) (10.2.0)\n",
      "Requirement already satisfied: matplotlib in /home/iteradmin/anaconda3/lib/python3.11/site-packages (from wordcloud) (3.8.0)\n",
      "Requirement already satisfied: contourpy>=1.0.1 in /home/iteradmin/anaconda3/lib/python3.11/site-packages (from matplotlib->wordcloud) (1.2.0)\n",
      "Requirement already satisfied: cycler>=0.10 in /home/iteradmin/anaconda3/lib/python3.11/site-packages (from matplotlib->wordcloud) (0.11.0)\n",
      "Requirement already satisfied: fonttools>=4.22.0 in /home/iteradmin/anaconda3/lib/python3.11/site-packages (from matplotlib->wordcloud) (4.25.0)\n",
      "Requirement already satisfied: kiwisolver>=1.0.1 in /home/iteradmin/anaconda3/lib/python3.11/site-packages (from matplotlib->wordcloud) (1.4.4)\n",
      "Requirement already satisfied: packaging>=20.0 in /home/iteradmin/anaconda3/lib/python3.11/site-packages (from matplotlib->wordcloud) (23.1)\n",
      "Requirement already satisfied: pyparsing>=2.3.1 in /home/iteradmin/anaconda3/lib/python3.11/site-packages (from matplotlib->wordcloud) (3.0.9)\n",
      "Requirement already satisfied: python-dateutil>=2.7 in /home/iteradmin/anaconda3/lib/python3.11/site-packages (from matplotlib->wordcloud) (2.8.2)\n",
      "Requirement already satisfied: six>=1.5 in /home/iteradmin/anaconda3/lib/python3.11/site-packages (from python-dateutil>=2.7->matplotlib->wordcloud) (1.16.0)\n",
      "Downloading wordcloud-1.9.4-cp311-cp311-manylinux_2_17_x86_64.manylinux2014_x86_64.whl (547 kB)\n",
      "\u001b[2K   \u001b[90m━━━━━━━━━━━━━━━━━━━━━━━━━━━━━━━━━━━━━━━━\u001b[0m \u001b[32m547.9/547.9 kB\u001b[0m \u001b[31m3.3 MB/s\u001b[0m eta \u001b[36m0:00:00\u001b[0m:00:01\u001b[0m0:01\u001b[0m\n",
      "\u001b[?25hInstalling collected packages: wordcloud\n",
      "Successfully installed wordcloud-1.9.4\n"
     ]
    }
   ],
   "source": [
    "!pip install wordcloud"
   ]
  },
  {
   "cell_type": "code",
   "execution_count": 13,
   "id": "14d6f1b5-2bad-4561-b478-62296aeca516",
   "metadata": {},
   "outputs": [],
   "source": [
    "from pathlib import Path\n",
    "text = Path(r'/home/student/SID2241002049/Python/Lab5/WarHammer.txt').read_text('UTF-8')\n",
    "\n",
    "import imageio.v2 as imageio\n",
    "mask_image = imageio.imread(Path(r'/home/student/SID2241002049/Python/Lab5/mask_heart.png'))\n",
    "\n",
    "from wordcloud import WordCloud\n",
    "wc = WordCloud(colormap = 'prism', mask = mask_image, background_color = 'white')\n",
    "wc = wc.generate(text)\n",
    "wc = wc.to_file('TextWar.png')"
   ]
  },
  {
   "cell_type": "markdown",
   "id": "1e9cb68d-3a89-4131-8bd7-85d93125961f",
   "metadata": {},
   "source": [
    "___________\n",
    "# TEXTATISTICS"
   ]
  },
  {
   "cell_type": "code",
   "execution_count": 14,
   "id": "6b0f6d93-4bd4-4992-8e11-ce9c4654e3f8",
   "metadata": {},
   "outputs": [
    {
     "name": "stdout",
     "output_type": "stream",
     "text": [
      "Defaulting to user installation because normal site-packages is not writeable\n",
      "Collecting textatistic\n",
      "  Downloading textatistic-0.0.1.tar.gz (29 kB)\n",
      "  Preparing metadata (setup.py) ... \u001b[?25ldone\n",
      "\u001b[?25hCollecting pyhyphen>=2.0.5 (from textatistic)\n",
      "  Downloading PyHyphen-4.0.4.tar.gz (40 kB)\n",
      "\u001b[2K     \u001b[90m━━━━━━━━━━━━━━━━━━━━━━━━━━━━━━━━━━━━━━━\u001b[0m \u001b[32m40.5/40.5 kB\u001b[0m \u001b[31m320.4 kB/s\u001b[0m eta \u001b[36m0:00:00\u001b[0ma \u001b[36m0:00:01\u001b[0m\n",
      "\u001b[?25h  Preparing metadata (setup.py) ... \u001b[?25ldone\n",
      "\u001b[?25hRequirement already satisfied: wheel>=0.40.0 in /home/iteradmin/anaconda3/lib/python3.11/site-packages (from pyhyphen>=2.0.5->textatistic) (0.41.2)\n",
      "Requirement already satisfied: setuptools>=68.0 in /home/iteradmin/anaconda3/lib/python3.11/site-packages (from pyhyphen>=2.0.5->textatistic) (68.2.2)\n",
      "Requirement already satisfied: appdirs>=1.4.0 in /home/iteradmin/anaconda3/lib/python3.11/site-packages (from pyhyphen>=2.0.5->textatistic) (1.4.4)\n",
      "Requirement already satisfied: requests>=2.25 in /home/iteradmin/anaconda3/lib/python3.11/site-packages (from pyhyphen>=2.0.5->textatistic) (2.31.0)\n",
      "Requirement already satisfied: charset-normalizer<4,>=2 in /home/iteradmin/anaconda3/lib/python3.11/site-packages (from requests>=2.25->pyhyphen>=2.0.5->textatistic) (2.0.4)\n",
      "Requirement already satisfied: idna<4,>=2.5 in /home/iteradmin/anaconda3/lib/python3.11/site-packages (from requests>=2.25->pyhyphen>=2.0.5->textatistic) (3.4)\n",
      "Requirement already satisfied: urllib3<3,>=1.21.1 in /home/iteradmin/anaconda3/lib/python3.11/site-packages (from requests>=2.25->pyhyphen>=2.0.5->textatistic) (2.0.7)\n",
      "Requirement already satisfied: certifi>=2017.4.17 in /home/iteradmin/anaconda3/lib/python3.11/site-packages (from requests>=2.25->pyhyphen>=2.0.5->textatistic) (2024.2.2)\n",
      "Building wheels for collected packages: textatistic, pyhyphen\n",
      "  Building wheel for textatistic (setup.py) ... \u001b[?25ldone\n",
      "\u001b[?25h  Created wheel for textatistic: filename=textatistic-0.0.1-py3-none-any.whl size=29047 sha256=fd27f3f9458809909a1154c0e56c5b3603d2a9698dfe0e533061661e70561f1e\n",
      "  Stored in directory: /home/student/.cache/pip/wheels/ec/03/0a/d09aa1c311450d9618131b77a6ea42990542380098022b77ba\n",
      "  Building wheel for pyhyphen (setup.py) ... \u001b[?25ldone\n",
      "\u001b[?25h  Created wheel for pyhyphen: filename=PyHyphen-4.0.4-cp37-abi3-linux_x86_64.whl size=38183 sha256=259ecc68519eb484c561c03f6f64ad650de2e22ca89dddbd2505d38c00820df1\n",
      "  Stored in directory: /home/student/.cache/pip/wheels/4c/ce/e4/6604d8a83dcfdfa6766ce9423ac3d25e392ac645b5c4b5312e\n",
      "Successfully built textatistic pyhyphen\n",
      "Installing collected packages: pyhyphen, textatistic\n",
      "Successfully installed pyhyphen-4.0.4 textatistic-0.0.1\n"
     ]
    }
   ],
   "source": [
    "!pip install textatistic"
   ]
  },
  {
   "cell_type": "code",
   "execution_count": 19,
   "id": "465405e1-f628-4924-9a62-b586e99f2d90",
   "metadata": {},
   "outputs": [
    {
     "name": "stdout",
     "output_type": "stream",
     "text": [
      "{'char_count': 7075, 'word_count': 1375, 'sent_count': 58, 'sybl_count': 1983, 'notdalechall_count': 495, 'polysyblword_count': 119, 'flesch_score': 60.7639181818182, 'fleschkincaid_score': 10.67343510971787, 'gunningfog_score': 12.944576802507838, 'smog_score': 11.311946787745946, 'dalechall_score': 10.496762068965516}\n"
     ]
    }
   ],
   "source": [
    "from pathlib import Path\n",
    "text = Path(r'/home/student/SID2241002049/Python/Lab5/WarHammer.txt').read_text('UTF-8')\n",
    "\n",
    "from textatistic import Textatistic\n",
    "readability = Textatistic(text)\n",
    "print(readability.dict())\n"
   ]
  },
  {
   "cell_type": "markdown",
   "id": "3673ae3c-8b3d-4361-8da6-ee74196090d4",
   "metadata": {},
   "source": [
    "___________\n",
    "# SPACY\n",
    "* NLP can determine what a text is about, a key aspect of this is 'named entity recognition' which attempts to locate and categorize items like dates, times, quantities, places, people, things, organizations, etc."
   ]
  },
  {
   "cell_type": "code",
   "execution_count": 24,
   "id": "f09c4815-a2a7-43e3-be25-81b9135118fd",
   "metadata": {},
   "outputs": [
    {
     "name": "stdout",
     "output_type": "stream",
     "text": [
      "Defaulting to user installation because normal site-packages is not writeable\n",
      "Requirement already satisfied: spacy in /home/student/.local/lib/python3.11/site-packages (3.8.4)\n",
      "Requirement already satisfied: spacy-legacy<3.1.0,>=3.0.11 in /home/student/.local/lib/python3.11/site-packages (from spacy) (3.0.12)\n",
      "Requirement already satisfied: spacy-loggers<2.0.0,>=1.0.0 in /home/student/.local/lib/python3.11/site-packages (from spacy) (1.0.5)\n",
      "Requirement already satisfied: murmurhash<1.1.0,>=0.28.0 in /home/student/.local/lib/python3.11/site-packages (from spacy) (1.0.12)\n",
      "Requirement already satisfied: cymem<2.1.0,>=2.0.2 in /home/student/.local/lib/python3.11/site-packages (from spacy) (2.0.11)\n",
      "Requirement already satisfied: preshed<3.1.0,>=3.0.2 in /home/student/.local/lib/python3.11/site-packages (from spacy) (3.0.9)\n",
      "Requirement already satisfied: thinc<8.4.0,>=8.3.4 in /home/student/.local/lib/python3.11/site-packages (from spacy) (8.3.4)\n",
      "Requirement already satisfied: wasabi<1.2.0,>=0.9.1 in /home/student/.local/lib/python3.11/site-packages (from spacy) (1.1.3)\n",
      "Requirement already satisfied: srsly<3.0.0,>=2.4.3 in /home/student/.local/lib/python3.11/site-packages (from spacy) (2.5.1)\n",
      "Requirement already satisfied: catalogue<2.1.0,>=2.0.6 in /home/student/.local/lib/python3.11/site-packages (from spacy) (2.0.10)\n",
      "Requirement already satisfied: weasel<0.5.0,>=0.1.0 in /home/student/.local/lib/python3.11/site-packages (from spacy) (0.4.1)\n",
      "Requirement already satisfied: typer<1.0.0,>=0.3.0 in /home/student/.local/lib/python3.11/site-packages (from spacy) (0.15.2)\n",
      "Requirement already satisfied: tqdm<5.0.0,>=4.38.0 in /home/iteradmin/anaconda3/lib/python3.11/site-packages (from spacy) (4.65.0)\n",
      "Requirement already satisfied: numpy>=1.19.0 in /home/iteradmin/anaconda3/lib/python3.11/site-packages (from spacy) (1.26.4)\n",
      "Requirement already satisfied: requests<3.0.0,>=2.13.0 in /home/iteradmin/anaconda3/lib/python3.11/site-packages (from spacy) (2.31.0)\n",
      "Requirement already satisfied: pydantic!=1.8,!=1.8.1,<3.0.0,>=1.7.4 in /home/iteradmin/anaconda3/lib/python3.11/site-packages (from spacy) (1.10.12)\n",
      "Requirement already satisfied: jinja2 in /home/iteradmin/anaconda3/lib/python3.11/site-packages (from spacy) (3.1.3)\n",
      "Requirement already satisfied: setuptools in /home/iteradmin/anaconda3/lib/python3.11/site-packages (from spacy) (68.2.2)\n",
      "Requirement already satisfied: packaging>=20.0 in /home/iteradmin/anaconda3/lib/python3.11/site-packages (from spacy) (23.1)\n",
      "Requirement already satisfied: langcodes<4.0.0,>=3.2.0 in /home/student/.local/lib/python3.11/site-packages (from spacy) (3.5.0)\n",
      "Requirement already satisfied: language-data>=1.2 in /home/student/.local/lib/python3.11/site-packages (from langcodes<4.0.0,>=3.2.0->spacy) (1.3.0)\n",
      "Requirement already satisfied: typing-extensions>=4.2.0 in /home/iteradmin/anaconda3/lib/python3.11/site-packages (from pydantic!=1.8,!=1.8.1,<3.0.0,>=1.7.4->spacy) (4.9.0)\n",
      "Requirement already satisfied: charset-normalizer<4,>=2 in /home/iteradmin/anaconda3/lib/python3.11/site-packages (from requests<3.0.0,>=2.13.0->spacy) (2.0.4)\n",
      "Requirement already satisfied: idna<4,>=2.5 in /home/iteradmin/anaconda3/lib/python3.11/site-packages (from requests<3.0.0,>=2.13.0->spacy) (3.4)\n",
      "Requirement already satisfied: urllib3<3,>=1.21.1 in /home/iteradmin/anaconda3/lib/python3.11/site-packages (from requests<3.0.0,>=2.13.0->spacy) (2.0.7)\n",
      "Requirement already satisfied: certifi>=2017.4.17 in /home/iteradmin/anaconda3/lib/python3.11/site-packages (from requests<3.0.0,>=2.13.0->spacy) (2024.2.2)\n",
      "Requirement already satisfied: blis<1.3.0,>=1.2.0 in /home/student/.local/lib/python3.11/site-packages (from thinc<8.4.0,>=8.3.4->spacy) (1.2.0)\n",
      "Requirement already satisfied: confection<1.0.0,>=0.0.1 in /home/student/.local/lib/python3.11/site-packages (from thinc<8.4.0,>=8.3.4->spacy) (0.1.5)\n",
      "Requirement already satisfied: click>=8.0.0 in /home/iteradmin/anaconda3/lib/python3.11/site-packages (from typer<1.0.0,>=0.3.0->spacy) (8.1.7)\n",
      "Requirement already satisfied: shellingham>=1.3.0 in /home/student/.local/lib/python3.11/site-packages (from typer<1.0.0,>=0.3.0->spacy) (1.5.4)\n",
      "Requirement already satisfied: rich>=10.11.0 in /home/iteradmin/anaconda3/lib/python3.11/site-packages (from typer<1.0.0,>=0.3.0->spacy) (13.3.5)\n",
      "Requirement already satisfied: cloudpathlib<1.0.0,>=0.7.0 in /home/student/.local/lib/python3.11/site-packages (from weasel<0.5.0,>=0.1.0->spacy) (0.21.0)\n",
      "Requirement already satisfied: smart-open<8.0.0,>=5.2.1 in /home/iteradmin/anaconda3/lib/python3.11/site-packages (from weasel<0.5.0,>=0.1.0->spacy) (5.2.1)\n",
      "Requirement already satisfied: MarkupSafe>=2.0 in /home/iteradmin/anaconda3/lib/python3.11/site-packages (from jinja2->spacy) (2.1.3)\n",
      "Requirement already satisfied: marisa-trie>=1.1.0 in /home/student/.local/lib/python3.11/site-packages (from language-data>=1.2->langcodes<4.0.0,>=3.2.0->spacy) (1.2.1)\n",
      "Requirement already satisfied: markdown-it-py<3.0.0,>=2.2.0 in /home/iteradmin/anaconda3/lib/python3.11/site-packages (from rich>=10.11.0->typer<1.0.0,>=0.3.0->spacy) (2.2.0)\n",
      "Requirement already satisfied: pygments<3.0.0,>=2.13.0 in /home/iteradmin/anaconda3/lib/python3.11/site-packages (from rich>=10.11.0->typer<1.0.0,>=0.3.0->spacy) (2.15.1)\n",
      "Requirement already satisfied: mdurl~=0.1 in /home/iteradmin/anaconda3/lib/python3.11/site-packages (from markdown-it-py<3.0.0,>=2.2.0->rich>=10.11.0->typer<1.0.0,>=0.3.0->spacy) (0.1.0)\n",
      "Defaulting to user installation because normal site-packages is not writeable\n",
      "Collecting en-core-web-sm==3.8.0\n",
      "  Downloading https://github.com/explosion/spacy-models/releases/download/en_core_web_sm-3.8.0/en_core_web_sm-3.8.0-py3-none-any.whl (12.8 MB)\n",
      "\u001b[2K     \u001b[90m━━━━━━━━━━━━━━━━━━━━━━━━━━━━━━━━━━━━━━━━\u001b[0m \u001b[32m12.8/12.8 MB\u001b[0m \u001b[31m33.3 MB/s\u001b[0m eta \u001b[36m0:00:00\u001b[0m00:01\u001b[0m00:01\u001b[0m\n",
      "\u001b[?25h\u001b[38;5;2m✔ Download and installation successful\u001b[0m\n",
      "You can now load the package via spacy.load('en_core_web_sm')\n"
     ]
    }
   ],
   "source": [
    "!pip install spacy\n",
    "!python -m spacy download en_core_web_sm"
   ]
  },
  {
   "cell_type": "code",
   "execution_count": 26,
   "id": "1966850b-f25e-430c-b254-fd4853ab2465",
   "metadata": {},
   "outputs": [
    {
     "name": "stdout",
     "output_type": "stream",
     "text": [
      "1994: DATE\n",
      "Tim Berners Lee: PERSON\n",
      "the World Wide Web Consortium(W3C: EVENT\n"
     ]
    }
   ],
   "source": [
    "import spacy\n",
    "nlp = spacy.load('en_core_web_sm') # Imp for spacy to work\n",
    "doc = nlp('''In 1994, Tim Berners Lee founded the World Wide Web Consortium(W3C), devoted to developing web technologies.''')\n",
    "for entity in doc.ents:\n",
    "    print(f'{entity.text}: {entity.label_}')"
   ]
  },
  {
   "cell_type": "markdown",
   "id": "546f1464-e40a-4eb4-883b-6962d454543a",
   "metadata": {},
   "source": [
    "### Finding similarity between texts"
   ]
  },
  {
   "cell_type": "code",
   "execution_count": 32,
   "id": "2e2e6310-4085-4840-8ba5-79372bbcecc2",
   "metadata": {},
   "outputs": [
    {
     "name": "stdout",
     "output_type": "stream",
     "text": [
      "0.8437235970900985\n"
     ]
    },
    {
     "name": "stderr",
     "output_type": "stream",
     "text": [
      "/tmp/ipykernel_6089/1893750515.py:7: UserWarning: [W007] The model you're using has no word vectors loaded, so the result of the Doc.similarity method will be based on the tagger, parser and NER, which may not give useful similarity judgements. This may happen if you're using one of the small models, e.g. `en_core_web_sm`, which don't ship with word vectors and only use context-sensitive tensors. You can always add your own word vectors, or use one of the larger models instead if available.\n",
      "  print(text1.similarity(text2))\n"
     ]
    }
   ],
   "source": [
    "import spacy\n",
    "nlp = spacy.load('en_core_web_sm')\n",
    "\n",
    "from pathlib import Path\n",
    "text1 = nlp(Path(r'/home/student/SID2241002049/Python/Lab5/WarHammer.txt').read_text('UTF-8'))\n",
    "text2 = nlp(Path(r'/home/student/SID2241002049/Python/Lab5/JavaSample.txt').read_text('UTF-8'))\n",
    "print(text1.similarity(text2))"
   ]
  },
  {
   "cell_type": "code",
   "execution_count": null,
   "id": "26ab147c-b3c8-42e2-8241-6ae8f65a407e",
   "metadata": {},
   "outputs": [],
   "source": []
  }
 ],
 "metadata": {
  "kernelspec": {
   "display_name": "Python 3 (ipykernel)",
   "language": "python",
   "name": "python3"
  },
  "language_info": {
   "codemirror_mode": {
    "name": "ipython",
    "version": 3
   },
   "file_extension": ".py",
   "mimetype": "text/x-python",
   "name": "python",
   "nbconvert_exporter": "python",
   "pygments_lexer": "ipython3",
   "version": "3.11.7"
  }
 },
 "nbformat": 4,
 "nbformat_minor": 5
}
