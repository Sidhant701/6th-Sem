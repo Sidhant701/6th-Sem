{
 "cells": [
  {
   "cell_type": "markdown",
   "id": "5880e702-29b9-422c-ba33-7996234d6c2a",
   "metadata": {},
   "source": [
    "# MACHINE LEARNING"
   ]
  },
  {
   "cell_type": "markdown",
   "id": "c34b8446-2ce6-4a57-b3d0-ecc9a3a34d73",
   "metadata": {},
   "source": [
    "# 5/4/25"
   ]
  },
  {
   "cell_type": "code",
   "execution_count": 26,
   "id": "70a42d42-1273-473e-98dd-45a145b80544",
   "metadata": {},
   "outputs": [
    {
     "name": "stdout",
     "output_type": "stream",
     "text": [
      "[[ 0.  0.  7. 15. 13.  1.  0.  0.]\n",
      " [ 0.  8. 13.  6. 15.  4.  0.  0.]\n",
      " [ 0.  2.  1. 13. 13.  0.  0.  0.]\n",
      " [ 0.  0.  2. 15. 11.  1.  0.  0.]\n",
      " [ 0.  0.  0.  1. 12. 12.  1.  0.]\n",
      " [ 0.  0.  0.  0.  1. 10.  8.  0.]\n",
      " [ 0.  0.  8.  4.  5. 14.  9.  0.]\n",
      " [ 0.  0.  7. 13. 13.  9.  0.  0.]]\n",
      "3\n"
     ]
    },
    {
     "data": {
      "image/png": "[encoded data removed]",
      "text/plain": [
       "<Figure size 640x480 with 1 Axes>"
      ]
     },
     "metadata": {},
     "output_type": "display_data"
    }
   ],
   "source": [
    "from sklearn.datasets import load_digits\n",
    "dig = load_digits()\n",
    "# print(dig)\n",
    "# print(len(dig)) # 7\n",
    "\n",
    "# for i in dig:\n",
    "#     print(i)\n",
    "\n",
    "# print(dig.DESCR)\n",
    "\n",
    "# print(dig.target[::100])\n",
    "\n",
    "# print(dig.data.shape)\n",
    "\n",
    "print(dig.images[3])\n",
    "print(dig.target[3])\n",
    "\n",
    "# print(dig.data[3])\n",
    "\n",
    "# import matplotlib .pyplot as plt\n",
    "# figure, axes = plt.subplots(nrows=4, ncols=6, figsize = (6,4))\n",
    "# # plt.show()\n",
    "# for item in zip(axes.ravel(), dig.images, dig.target):\n",
    "#     axes, image, target = item\n",
    "#     # axes.imshow(image, cmap = plt.cm.gray_r)\n",
    "#     axes.imshow(image)\n",
    "#     axes.set_xticks([])\n",
    "#     axes.set_yticks([])\n",
    "#     axes.set_title(target)\n",
    "# plt.tight_layout()\n",
    "# plt.show()\n",
    "\n",
    "axes = plt.subplot()\n",
    "image = plt.imshow(dig.images[3], cmap = plt.cm.gray_r)\n",
    "xticks = axes.set_xticks([])\n",
    "yticks = axes.set_yticks([])\n",
    "plt.show()"
   ]
  },
  {
   "cell_type": "markdown",
   "id": "ea6f81b3-f182-4283-93ff-814ef1f9a3ba",
   "metadata": {},
   "source": [
    "_______\n",
    "# Train and Test"
   ]
  },
  {
   "cell_type": "code",
   "execution_count": 47,
   "id": "ba3ca524-bbab-420f-8777-76fc8f694ed9",
   "metadata": {},
   "outputs": [
    {
     "name": "stdout",
     "output_type": "stream",
     "text": [
      "[[45  0  0  0  0  0  0  0  0  0]\n",
      " [ 0 45  0  0  0  0  0  0  0  0]\n",
      " [ 0  0 54  0  0  0  0  0  0  0]\n",
      " [ 0  0  0 42  0  1  0  1  0  0]\n",
      " [ 0  0  0  0 49  0  0  1  0  0]\n",
      " [ 0  0  0  0  0 38  0  0  0  0]\n",
      " [ 0  0  0  0  0  0 42  0  0  0]\n",
      " [ 0  0  0  0  0  0  0 45  0  0]\n",
      " [ 0  1  1  2  0  0  0  0 39  1]\n",
      " [ 0  0  0  0  1  0  0  0  1 41]]\n"
     ]
    }
   ],
   "source": [
    "from sklearn.model_selection import train_test_split\n",
    "X_train, X_test, y_train, y_test = train_test_split(dig.data, dig.target, random_state = 11)\n",
    "# X_train, X_test, y_train, y_test = train_test_split(dig.data, dig.target, random_state = 11, test_size = 0.2) # 80% of 1737 = 1437\n",
    "\n",
    "# print(X_train.shape)\n",
    "# print(X_test.shape)\n",
    "# print(y_train.shape)\n",
    "# print(y_test.shape)\n",
    "\n",
    "from sklearn.neighbors import KNeighborsClassifier\n",
    "knn = KNeighborsClassifier()\n",
    "\n",
    "# Train the model\n",
    "knn.fit(X = X_train, y = y_train)\n",
    "predicted = knn.predict(X = X_test)\n",
    "expected = y_test\n",
    "\n",
    "# print(predicted)\n",
    "# print()\n",
    "# print(expected)\n",
    "\n",
    "# wrong = [(p,e) for (p,e) in zip(predicted, expected) if p!=e]\n",
    "# print(wrong)\n",
    "# print(len(wrong))\n",
    "\n",
    "# print(f'{knn.score(X_test, y_test):.2%}')\n",
    "\n",
    "from sklearn.metrics import confusion_matrix\n",
    "confusion = confusion_matrix(y_true = expected, y_pred = predicted)\n",
    "print(confusion)\n"
   ]
  },
  {
   "cell_type": "code",
   "execution_count": 59,
   "id": "9ee38963-9be1-47ce-a5f2-1ba630b42f60",
   "metadata": {},
   "outputs": [
    {
     "data": {
      "image/png": "[encoded data removed]",
      "text/plain": [
       "<Figure size 600x500 with 2 Axes>"
      ]
     },
     "metadata": {},
     "output_type": "display_data"
    },
    {
     "name": "stdout",
     "output_type": "stream",
     "text": [
      "              precision    recall  f1-score   support\n",
      "\n",
      "           0       1.00      1.00      1.00        45\n",
      "           1       0.98      1.00      0.99        45\n",
      "           2       0.98      1.00      0.99        54\n",
      "           3       0.95      0.95      0.95        44\n",
      "           4       0.98      0.98      0.98        50\n",
      "           5       0.97      1.00      0.99        38\n",
      "           6       1.00      1.00      1.00        42\n",
      "           7       0.96      1.00      0.98        45\n",
      "           8       0.97      0.89      0.93        44\n",
      "           9       0.98      0.95      0.96        43\n",
      "\n",
      "    accuracy                           0.98       450\n",
      "   macro avg       0.98      0.98      0.98       450\n",
      "weighted avg       0.98      0.98      0.98       450\n",
      "\n"
     ]
    }
   ],
   "source": [
    "import matplotlib.pyplot as plt\n",
    "import seaborn as sns\n",
    "from sklearn.metrics import confusion_matrix\n",
    "confusion = confusion_matrix(y_true = expected, y_pred = predicted)\n",
    "plt.figure(figsize = (6,5))\n",
    "sns.heatmap(confusion, annot = True, fmt = 'd', cmap = 'nipy_spectral_r', linewidth = 0.5, linecolor = 'black')\n",
    "plt.xlabel('Predicted Labels')\n",
    "plt.ylabel('Actual Labels')\n",
    "plt.title('Confusion Matrix')\n",
    "plt.show()\n",
    "\n",
    "from sklearn.metrics import classification_report\n",
    "names = [str(digit) for digit in dig.target_names]\n",
    "print(classification_report(expected, predicted, target_names = names))"
   ]
  },
  {
   "cell_type": "code",
   "execution_count": null,
   "id": "2a84150e-42cd-4547-9c03-6be0c8927251",
   "metadata": {},
   "outputs": [],
   "source": []
  }
 ],
 "metadata": {
  "kernelspec": {
   "display_name": "Python 3 (ipykernel)",
   "language": "python",
   "name": "python3"
  },
  "language_info": {
   "codemirror_mode": {
    "name": "ipython",
    "version": 3
   },
   "file_extension": ".py",
   "mimetype": "text/x-python",
   "name": "python",
   "nbconvert_exporter": "python",
   "pygments_lexer": "ipython3",
   "version": "3.11.7"
  }
 },
 "nbformat": 4,
 "nbformat_minor": 5
}
