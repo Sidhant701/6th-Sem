{
 "cells": [
  {
   "cell_type": "markdown",
   "metadata": {},
   "source": [
    "1) Define Natural Language Processing (NLP). Provide three real-world applications of NLP and explain\n",
    "how they impact society."
   ]
  },
  {
   "cell_type": "markdown",
   "metadata": {},
   "source": []
  },
  {
   "cell_type": "markdown",
   "metadata": {},
   "source": [
    "5) Write a Python script to perform the following tasks on the given text:\n",
    "• Tokenize the text into words and sentences.\n",
    "• Perform stemming and lemmatization using NLTK or SpaCy.\n",
    "• Remove stop words from the text.\n",
    "• Sample Text:\n",
    "”Natural Language Processing enables machines to understand and process human languages.\n",
    "It is a fascinating field with numerous applications, such as chatbots and language translation.”"
   ]
  },
  {
   "cell_type": "code",
   "execution_count": null,
   "metadata": {
    "vscode": {
     "languageId": "plaintext"
    }
   },
   "outputs": [],
   "source": [
    "import spacy\n",
    "nlp = spacy.load('en_core_web_sm')\n",
    "\n",
    "from textblob import TextBlob\n",
    "\n",
    "text = \"Natural Language Processing enables machines to understand and process human languages. It is a fascinating field with numerous applications, such as chatbots and language translation.\"\n",
    "\n",
    "\n"
   ]
  }
 ],
 "metadata": {
  "language_info": {
   "name": "python"
  }
 },
 "nbformat": 4,
 "nbformat_minor": 2
}
