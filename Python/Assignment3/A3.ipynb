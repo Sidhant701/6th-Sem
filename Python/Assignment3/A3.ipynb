{
 "cells": [
  {
   "cell_type": "markdown",
   "metadata": {},
   "source": [
    "Q1) Define Natural Language Processing (NLP). Provide three real-world applications of NLP and explain\n",
    "how they impact society.\n",
    "\n",
    "Ans: Natural Language Processing (NLP) is a field of artificial intelligence that focuses on the interaction between computers and humans through natural language. The goal of NLP is to enable computers to understand, interpret, and generate human language in a way that is both meaningful and useful.\n",
    "\n",
    "3 real-world applications of NLP and their impact on society:\n",
    "\n",
    "- **Chatbots and Virtual Assistants**: NLP is used to develop chatbots and virtual assistants like Siri, Alexa, and Google Assistant. These tools help users perform tasks, answer questions, and provide customer support, making daily life more convenient and improving customer service efficiency.\n",
    "\n",
    "* **Language Translation**: NLP powers translation services such as Google Translate, allowing users to translate text and speech between different languages. This breaks down language barriers, facilitates global communication, and promotes cultural exchange.\n",
    "\n",
    "- **Sentiment Analysis**: NLP is used to analyze social media posts, reviews, and feedback to determine the sentiment behind the text. Businesses use sentiment analysis to understand customer opinions, improve products and services, and make data-driven decisions, ultimately enhancing customer satisfaction and loyalty.\n"
   ]
  },
  {
   "cell_type": "markdown",
   "metadata": {},
   "source": [
    "_________\n",
    "Q2) Explain the following terms and their significance in NLP:\n",
    "- Tokenization\n",
    "- Stemming\n",
    "- Lemmatization\n",
    "\n",
    "Ans:- \n",
    "- **Tokenization**: Tokenization is the process of breaking down text into smaller units called tokens, which can be words, phrases, or sentences. It is a fundamental step in NLP as it helps in understanding the structure and meaning of the text. Tokenization is crucial for tasks such as text analysis, information retrieval, and machine learning.\n",
    "\n",
    "- **Stemming**: Stemming is the process of reducing words to their base or root form. It involves removing suffixes and prefixes to obtain the stem of a word. Stemming helps in normalizing text, reducing the complexity of data, and improving the performance of NLP tasks like text classification and information retrieval.\n",
    "\n",
    "- **Lemmatization**: Lemmatization is the process of reducing words to their base or dictionary form, known as the lemma. Unlike stemming, lemmatization considers the context and morphological analysis of words, ensuring that the root form is a valid word. Lemmatization enhances the accuracy of NLP tasks by providing meaningful and contextually appropriate root forms of words."
   ]
  },
  {
   "cell_type": "markdown",
   "metadata": {
    "vscode": {
     "languageId": "bat"
    }
   },
   "source": [
    "________\n",
    "Q3) What is Part-of-Speech (POS) tagging? Discuss its importance with an example.\n",
    "\n",
    "Ans: Part-of-Speech (POS) tagging is the process of assigning a part of speech to each word in a given text, such as nouns, verbs, adjectives, adverbs, etc. POS tagging is essential in NLP as it helps in understanding the grammatical structure of a sentence, which is crucial for various NLP tasks such as parsing, named entity recognition, and machine translation.\n",
    "\n",
    "**Importance of POS tagging:**\n",
    "- **Disambiguation**: POS tagging helps in resolving ambiguities in words that can have multiple meanings based on their usage in a sentence. For example, the word \"book\" can be a noun (a physical object) or a verb (to reserve).\n",
    "- **Syntactic Parsing**: POS tags provide the syntactic structure of a sentence, which is essential for parsing and understanding the relationships between words.\n",
    "- **Information Retrieval**: POS tagging improves the accuracy of information retrieval systems by enabling more precise searches based on the grammatical roles of words.\n",
    "\n",
    "**Example:**\n",
    "Consider the sentence \"The quick brown fox jumps over the lazy dog.\"\n",
    "- The: Determiner (DT)\n",
    "- quick: Adjective (JJ)\n",
    "- brown: Adjective (JJ)\n",
    "- fox: Noun (NN)\n",
    "- jumps: Verb (VBZ)\n",
    "- over: Preposition (IN)\n",
    "- the: Determiner (DT)\n",
    "- lazy: Adjective (JJ)\n",
    "- dog: Noun (NN)\n",
    "\n",
    "In this example, POS tagging helps identify the grammatical roles of each word, which aids in understanding the sentence structure and meaning."
   ]
  },
  {
   "cell_type": "code",
   "execution_count": null,
   "metadata": {},
   "outputs": [],
   "source": []
  },
  {
   "cell_type": "code",
   "execution_count": null,
   "metadata": {},
   "outputs": [],
   "source": []
  },
  {
   "cell_type": "code",
   "execution_count": null,
   "metadata": {},
   "outputs": [],
   "source": [
    "\n",
    "\n"
   ]
  },
  {
   "cell_type": "markdown",
   "metadata": {},
   "source": [
    "________\n",
    "4) Create a TextBlob named exercise blob containing ”This is a TextBlob”."
   ]
  },
  {
   "cell_type": "code",
   "execution_count": null,
   "metadata": {},
   "outputs": [
    {
     "name": "stdout",
     "output_type": "stream",
     "text": [
      "This is a TextBlob\n"
     ]
    }
   ],
   "source": [
    "from textblob import TextBlob\n",
    "exercise_blob = TextBlob(\"This is a TextBlob\")\n",
    "print(exercise_blob)\n"
   ]
  },
  {
   "cell_type": "markdown",
   "metadata": {},
   "source": [
    "5) Write a Python script to perform the following tasks on the given text:\n",
    "• Tokenize the text into words and sentences.\n",
    "• Perform stemming and lemmatization using NLTK or SpaCy.\n",
    "• Remove stop words from the text.\n",
    "• Sample Text:\n",
    "”Natural Language Processing enables machines to understand and process human languages.\n",
    "It is a fascinating field with numerous applications, such as chatbots and language translation.”"
   ]
  },
  {
   "cell_type": "code",
   "execution_count": null,
   "metadata": {},
   "outputs": [],
   "source": [
    "import spacy\n",
    "nlp = spacy.load('en_core_web_sm')\n",
    "\n",
    "from textblob import TextBlob\n",
    "\n",
    "text = \"Natural Language Processing enables machines to understand and process human languages. It is a fascinating field with numerous applications, such as chatbots and language translation.\"\n",
    "\n",
    "\n"
   ]
  }
 ],
 "metadata": {
  "kernelspec": {
   "display_name": "Python 3",
   "language": "python",
   "name": "python3"
  },
  "language_info": {
   "codemirror_mode": {
    "name": "ipython",
    "version": 3
   },
   "file_extension": ".py",
   "mimetype": "text/x-python",
   "name": "python",
   "nbconvert_exporter": "python",
   "pygments_lexer": "ipython3",
   "version": "3.12.4"
  }
 },
 "nbformat": 4,
 "nbformat_minor": 2
}
